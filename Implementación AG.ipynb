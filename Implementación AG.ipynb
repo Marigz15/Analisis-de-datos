{
 "cells": [
  {
   "cell_type": "code",
   "execution_count": 1,
   "id": "406149ed",
   "metadata": {},
   "outputs": [
    {
     "name": "stdout",
     "output_type": "stream",
     "text": [
      "Collecting deap\n",
      "  Downloading deap-1.3.3-cp39-cp39-win_amd64.whl (114 kB)\n",
      "     ------------------------------------ 114.3/114.3 kB 556.5 kB/s eta 0:00:00\n",
      "Requirement already satisfied: numpy in c:\\users\\maria\\anaconda3\\lib\\site-packages (from deap) (1.21.5)\n",
      "Installing collected packages: deap\n",
      "Successfully installed deap-1.3.3\n"
     ]
    }
   ],
   "source": [
    "!pip install deap"
   ]
  },
  {
   "cell_type": "code",
   "execution_count": 2,
   "id": "f84a3a9b",
   "metadata": {},
   "outputs": [],
   "source": [
    "#IMPORTAR LIBRERÍAS\n",
    "import random\n",
    "import numpy as np\n",
    "import matplotlib.pyplot as plt\n",
    "\n",
    "from deap import base, creator, tools, algorithms\n",
    "\n",
    "import warnings\n",
    "warnings.filterwarnings('ignore')"
   ]
  },
  {
   "cell_type": "code",
   "execution_count": 3,
   "id": "d9e46552",
   "metadata": {},
   "outputs": [],
   "source": [
    "#EJERCICIO DE LA MOCHILA\n",
    "#Definimos pesos y beneficios de los elementos de la mochila y la capacidad de la mochila\n",
    "beneficios = [20, 25, 20, 20, 35, 40, 35, 30, 35, 25]\n",
    "pesos = [50, 35, 45, 20, 35, 40, 50, 50, 45, 40]\n",
    "capacidad = 120"
   ]
  },
  {
   "cell_type": "code",
   "execution_count": 4,
   "id": "37fb3f3c",
   "metadata": {},
   "outputs": [],
   "source": [
    "#Declarar el contenedor de operadores genéticos\n",
    "toolbox = base.Toolbox()"
   ]
  },
  {
   "cell_type": "code",
   "execution_count": 5,
   "id": "baca3125",
   "metadata": {},
   "outputs": [],
   "source": [
    "#Creamos una clase para la función de adaptabilidad\n",
    "creator.create('FitnessMax', base.Fitness, weights = (1.0,))\n",
    "#Creamos una clase para los individuos\n",
    "creator.create('Individual', list, fitness = creator.FitnessMax)"
   ]
  },
  {
   "cell_type": "code",
   "execution_count": 8,
   "id": "6eeedaad",
   "metadata": {},
   "outputs": [],
   "source": [
    "#Construir cromosomas booleanos\n",
    "toolbox.register('attribute', random.randint, 0, 1)\n",
    "#Determinar la cantidad de genes dentro de un cromosoma (genes = 10)\n",
    "toolbox.register('individual', tools.initRepeat, creator.Individual, toolbox.attribute, n = 10)\n",
    "#Determinar la población\n",
    "toolbox.register('population', tools.initRepeat, list, toolbox.individual)"
   ]
  },
  {
   "cell_type": "code",
   "execution_count": 9,
   "id": "88088207",
   "metadata": {},
   "outputs": [
    {
     "name": "stdout",
     "output_type": "stream",
     "text": [
      "Individuo:  [0, 1, 1, 1, 1, 1, 0, 0, 1, 1]\n",
      "Población:  [[1, 0, 0, 0, 1, 1, 0, 0, 1, 0], [0, 0, 0, 0, 0, 1, 0, 0, 0, 0], [0, 0, 1, 1, 0, 1, 1, 1, 0, 0], [1, 1, 1, 1, 0, 1, 1, 1, 0, 0], [0, 1, 0, 0, 1, 0, 1, 1, 0, 1], [0, 0, 0, 0, 0, 1, 0, 0, 0, 0]]\n"
     ]
    }
   ],
   "source": [
    "#Generamos un individuo\n",
    "ind = toolbox.individual()\n",
    "print('Individuo: ', ind)\n",
    "\n",
    "#Generamos una población (6 individuos)\n",
    "pop = toolbox.population(n = 6)\n",
    "print('Población: ', pop)"
   ]
  },
  {
   "cell_type": "code",
   "execution_count": 10,
   "id": "0cbb570e",
   "metadata": {},
   "outputs": [],
   "source": [
    "#Declaramos la función de adaptabilidad \n",
    "def evaluarBeneficio(individuo):\n",
    "    beneficio = 0.0\n",
    "    peso = 0.0\n",
    "    \n",
    "    beneficio = np.dot(individuo, beneficios)\n",
    "    peso = np.dot(individuo, pesos)\n",
    "    \n",
    "    if peso > capacidad:\n",
    "        beneficio = beneficio - peso\n",
    "    else:\n",
    "        beneficio\n",
    "    return beneficio,"
   ]
  },
  {
   "cell_type": "code",
   "execution_count": 12,
   "id": "0c7986f6",
   "metadata": {},
   "outputs": [
    {
     "name": "stdout",
     "output_type": "stream",
     "text": [
      "Individuo a evaluar:  [0, 1, 1, 1, 1, 1, 0, 1, 0, 0]\n",
      "False\n",
      "True\n",
      "(-55.0,)\n"
     ]
    }
   ],
   "source": [
    "#Instanciar individuo y el valor de adaptabilidad\n",
    "ind = toolbox.individual()\n",
    "print('Individuo a evaluar: ', ind)\n",
    "print(ind.fitness.valid)\n",
    "ind.fitness.values = evaluarBeneficio(ind)\n",
    "print(ind.fitness.valid)\n",
    "print(ind.fitness)"
   ]
  },
  {
   "cell_type": "code",
   "execution_count": 13,
   "id": "d1a0f40a",
   "metadata": {},
   "outputs": [],
   "source": [
    "#Declarar los operadores genéticos\n",
    "#Selección\n",
    "toolbox.register('select', tools.selTournament, tournsize = 3)\n",
    "#Cruce\n",
    "toolbox.register('mate', tools.cxOnePoint)\n",
    "#Mutación\n",
    "toolbox.register('mutate', tools.mutFlipBit, indpb = 0.2)"
   ]
  },
  {
   "cell_type": "code",
   "execution_count": 14,
   "id": "e51ad48a",
   "metadata": {},
   "outputs": [],
   "source": [
    "#Declarar la evaluación de adaptabilidad\n",
    "toolbox.register('evaluate', evaluarBeneficio)"
   ]
  },
  {
   "cell_type": "code",
   "execution_count": 15,
   "id": "53769225",
   "metadata": {},
   "outputs": [],
   "source": [
    "#Configurar estadísticas de análisis\n",
    "stats = tools.Statistics(lambda ind: ind.fitness.values)\n",
    "stats.register('Promedio', np.mean)\n",
    "stats.register('Desviación', np.std)\n",
    "stats.register('Mínimo', np.min)\n",
    "stats.register('Máximo', np.max)"
   ]
  },
  {
   "cell_type": "code",
   "execution_count": 16,
   "id": "1d90f755",
   "metadata": {},
   "outputs": [],
   "source": [
    "#Implementar el proceso evolutivo\n",
    "#Inicializar la población\n",
    "population = toolbox.population(n = 6)\n",
    "\n",
    "#Implementar el cálculo de las generaciones\n",
    "population, logbook = algorithms.eaSimple(population, toolbox, cxpb = 0.5, mutpb = 0.2,\n",
    "                                          ngen = 20, verbose = False, stats = stats)"
   ]
  },
  {
   "cell_type": "code",
   "execution_count": 17,
   "id": "a8e6cf63",
   "metadata": {},
   "outputs": [
    {
     "name": "stdout",
     "output_type": "stream",
     "text": [
      "El resultado de la evolución es: \n",
      "gen\tnevals\tPromedio\tDesviación\tMínimo\tMáximo\n",
      "0  \t6     \t-13.3333\t64.6572   \t-70   \t85    \n",
      "1  \t5     \t31.6667 \t58.2857   \t-50   \t85    \n",
      "2  \t3     \t66.6667 \t40.9946   \t-25   \t85    \n",
      "3  \t6     \t85      \t0         \t85    \t85    \n",
      "4  \t5     \t79.1667 \t13.0437   \t50    \t85    \n",
      "5  \t5     \t40      \t63.705    \t-55   \t85    \n",
      "6  \t5     \t35      \t70.946    \t-75   \t85    \n",
      "7  \t0     \t85      \t0         \t85    \t85    \n",
      "8  \t5     \t22.5    \t62.9649   \t-50   \t85    \n",
      "9  \t4     \t21.6667 \t64.1396   \t-60   \t85    \n",
      "10 \t4     \t45.8333 \t55.559    \t-40   \t85    \n",
      "11 \t4     \t58.3333 \t47.4927   \t-45   \t85    \n",
      "12 \t6     \t84.1667 \t1.86339   \t80    \t85    \n",
      "13 \t3     \t34.1667 \t72.2505   \t-80   \t85    \n",
      "14 \t2     \t40.8333 \t62.611    \t-55   \t85    \n",
      "15 \t5     \t63.3333 \t48.4481   \t-45   \t85    \n",
      "16 \t3     \t63.3333 \t48.4481   \t-45   \t85    \n",
      "17 \t4     \t66.6667 \t40.9946   \t-25   \t85    \n",
      "18 \t4     \t85      \t0         \t85    \t85    \n",
      "19 \t5     \t57.5    \t51.133    \t-55   \t85    \n",
      "20 \t3     \t39.1667 \t65.2186   \t-65   \t85    \n"
     ]
    }
   ],
   "source": [
    "print('El resultado de la evolución es: ')\n",
    "print(logbook)"
   ]
  },
  {
   "cell_type": "code",
   "execution_count": 19,
   "id": "abb8af29",
   "metadata": {},
   "outputs": [
    {
     "name": "stdout",
     "output_type": "stream",
     "text": [
      "La mejor solución es: \n",
      "[0, 1, 0, 0, 1, 0, 0, 0, 0, 1]\n"
     ]
    }
   ],
   "source": [
    "print('La mejor solución es: ')\n",
    "print(tools.selBest(population, 1)[0])"
   ]
  },
  {
   "cell_type": "code",
   "execution_count": 20,
   "id": "b053a9ff",
   "metadata": {},
   "outputs": [
    {
     "data": {
      "text/plain": [
       "[[0, 1, 0, 0, 1, 0, 0, 0, 0, 1],\n",
       " [0, 0, 1, 0, 1, 1, 0, 0, 0, 1],\n",
       " [1, 1, 0, 0, 1, 1, 0, 0, 1, 1],\n",
       " [0, 1, 0, 0, 1, 0, 0, 0, 0, 1],\n",
       " [0, 1, 0, 0, 1, 0, 0, 0, 0, 1],\n",
       " [0, 1, 0, 0, 1, 0, 0, 0, 0, 1]]"
      ]
     },
     "execution_count": 20,
     "metadata": {},
     "output_type": "execute_result"
    }
   ],
   "source": [
    "population"
   ]
  },
  {
   "cell_type": "code",
   "execution_count": 21,
   "id": "9dd074fa",
   "metadata": {},
   "outputs": [
    {
     "data": {
      "image/png": "[encoded data removed]",
      "text/plain": [
       "<Figure size 640x480 with 1 Axes>"
      ]
     },
     "metadata": {},
     "output_type": "display_data"
    }
   ],
   "source": [
    "gen = logbook.select('gen')\n",
    "avgs = logbook.select('Promedio')\n",
    "plt.plot(gen, avgs)\n",
    "plt.xlabel('Generaciones')\n",
    "plt.ylabel('Adaptabilidad')\n",
    "plt.show()"
   ]
  }
 ],
 "metadata": {
  "kernelspec": {
   "display_name": "Python 3 (ipykernel)",
   "language": "python",
   "name": "python3"
  },
  "language_info": {
   "codemirror_mode": {
    "name": "ipython",
    "version": 3
   },
   "file_extension": ".py",
   "mimetype": "text/x-python",
   "name": "python",
   "nbconvert_exporter": "python",
   "pygments_lexer": "ipython3",
   "version": "3.9.13"
  }
 },
 "nbformat": 4,
 "nbformat_minor": 5
}
