{
 "cells": [
  {
   "cell_type": "code",
   "execution_count": 30,
   "id": "be8df96f",
   "metadata": {},
   "outputs": [],
   "source": [
    "#IMPORTAR LIBRERÍAS\n",
    "#Advertencias\n",
    "import warnings\n",
    "warnings.filterwarnings('ignore')\n",
    "\n",
    "#Tratamiento de datos \n",
    "import io\n",
    "import pandas as pd\n",
    "import numpy as np\n",
    "\n",
    "#Gráficos\n",
    "import matplotlib.pyplot as plt\n",
    "import seaborn as sb\n",
    "\n",
    "#Preparación de datos\n",
    "from sklearn.model_selection import train_test_split\n",
    "from sklearn.compose import ColumnTransformer\n",
    "from sklearn.compose import make_column_transformer\n",
    "from sklearn.preprocessing import MinMaxScaler\n",
    "from sklearn.preprocessing import OneHotEncoder\n",
    "from sklearn.preprocessing import OrdinalEncoder\n",
    "from sklearn.pipeline import Pipeline\n",
    "from sklearn import set_config\n",
    "\n",
    "#Modelado\n",
    "from sklearn.svm import SVC\n",
    "from sklearn.neural_network import MLPClassifier\n",
    "\n",
    "#Evaluación4\n",
    "from sklearn.metrics import accuracy_score\n",
    "from sklearn.metrics import confusion_matrix"
   ]
  },
  {
   "cell_type": "code",
   "execution_count": 31,
   "id": "18062971",
   "metadata": {},
   "outputs": [
    {
     "data": {
      "text/html": [
       "<div>\n",
       "<style scoped>\n",
       "    .dataframe tbody tr th:only-of-type {\n",
       "        vertical-align: middle;\n",
       "    }\n",
       "\n",
       "    .dataframe tbody tr th {\n",
       "        vertical-align: top;\n",
       "    }\n",
       "\n",
       "    .dataframe thead th {\n",
       "        text-align: right;\n",
       "    }\n",
       "</style>\n",
       "<table border=\"1\" class=\"dataframe\">\n",
       "  <thead>\n",
       "    <tr style=\"text-align: right;\">\n",
       "      <th></th>\n",
       "      <th>loan_status</th>\n",
       "      <th>annual_inc</th>\n",
       "      <th>verification_status</th>\n",
       "      <th>emp_length</th>\n",
       "      <th>home_ownership</th>\n",
       "      <th>int_rate</th>\n",
       "      <th>loan_amnt</th>\n",
       "      <th>purpose</th>\n",
       "      <th>term</th>\n",
       "      <th>grade</th>\n",
       "    </tr>\n",
       "  </thead>\n",
       "  <tbody>\n",
       "    <tr>\n",
       "      <th>0</th>\n",
       "      <td>Fully Paid</td>\n",
       "      <td>24000.0</td>\n",
       "      <td>Verified</td>\n",
       "      <td>10+ years</td>\n",
       "      <td>RENT</td>\n",
       "      <td>10.65%</td>\n",
       "      <td>5000</td>\n",
       "      <td>credit_card</td>\n",
       "      <td>36 months</td>\n",
       "      <td>B</td>\n",
       "    </tr>\n",
       "    <tr>\n",
       "      <th>1</th>\n",
       "      <td>Charged Off</td>\n",
       "      <td>30000.0</td>\n",
       "      <td>Source Verified</td>\n",
       "      <td>&lt; 1 year</td>\n",
       "      <td>RENT</td>\n",
       "      <td>15.27%</td>\n",
       "      <td>2500</td>\n",
       "      <td>car</td>\n",
       "      <td>60 months</td>\n",
       "      <td>C</td>\n",
       "    </tr>\n",
       "    <tr>\n",
       "      <th>2</th>\n",
       "      <td>Fully Paid</td>\n",
       "      <td>12252.0</td>\n",
       "      <td>Not Verified</td>\n",
       "      <td>10+ years</td>\n",
       "      <td>RENT</td>\n",
       "      <td>15.96%</td>\n",
       "      <td>2400</td>\n",
       "      <td>small_business</td>\n",
       "      <td>36 months</td>\n",
       "      <td>C</td>\n",
       "    </tr>\n",
       "    <tr>\n",
       "      <th>3</th>\n",
       "      <td>Fully Paid</td>\n",
       "      <td>49200.0</td>\n",
       "      <td>Source Verified</td>\n",
       "      <td>10+ years</td>\n",
       "      <td>RENT</td>\n",
       "      <td>13.49%</td>\n",
       "      <td>10000</td>\n",
       "      <td>other</td>\n",
       "      <td>36 months</td>\n",
       "      <td>C</td>\n",
       "    </tr>\n",
       "    <tr>\n",
       "      <th>4</th>\n",
       "      <td>Fully Paid</td>\n",
       "      <td>80000.0</td>\n",
       "      <td>Source Verified</td>\n",
       "      <td>1 year</td>\n",
       "      <td>RENT</td>\n",
       "      <td>12.69%</td>\n",
       "      <td>3000</td>\n",
       "      <td>other</td>\n",
       "      <td>60 months</td>\n",
       "      <td>B</td>\n",
       "    </tr>\n",
       "  </tbody>\n",
       "</table>\n",
       "</div>"
      ],
      "text/plain": [
       "   loan_status  annual_inc verification_status emp_length home_ownership  \\\n",
       "0   Fully Paid     24000.0            Verified  10+ years           RENT   \n",
       "1  Charged Off     30000.0     Source Verified   < 1 year           RENT   \n",
       "2   Fully Paid     12252.0        Not Verified  10+ years           RENT   \n",
       "3   Fully Paid     49200.0     Source Verified  10+ years           RENT   \n",
       "4   Fully Paid     80000.0     Source Verified     1 year           RENT   \n",
       "\n",
       "  int_rate  loan_amnt         purpose        term grade  \n",
       "0   10.65%       5000     credit_card   36 months     B  \n",
       "1   15.27%       2500             car   60 months     C  \n",
       "2   15.96%       2400  small_business   36 months     C  \n",
       "3   13.49%      10000           other   36 months     C  \n",
       "4   12.69%       3000           other   60 months     B  "
      ]
     },
     "execution_count": 31,
     "metadata": {},
     "output_type": "execute_result"
    }
   ],
   "source": [
    "#CARGAR DATOS\n",
    "datos = pd.read_csv(r'C:\\Users\\maria\\OneDrive\\Universidad\\Análisis de Decisiones\\Lending_club_cleaned_2.csv')\n",
    "datos.head(5)"
   ]
  },
  {
   "cell_type": "code",
   "execution_count": 32,
   "id": "ad5bdef2",
   "metadata": {},
   "outputs": [
    {
     "data": {
      "text/html": [
       "<div>\n",
       "<style scoped>\n",
       "    .dataframe tbody tr th:only-of-type {\n",
       "        vertical-align: middle;\n",
       "    }\n",
       "\n",
       "    .dataframe tbody tr th {\n",
       "        vertical-align: top;\n",
       "    }\n",
       "\n",
       "    .dataframe thead th {\n",
       "        text-align: right;\n",
       "    }\n",
       "</style>\n",
       "<table border=\"1\" class=\"dataframe\">\n",
       "  <thead>\n",
       "    <tr style=\"text-align: right;\">\n",
       "      <th></th>\n",
       "      <th>loan_status</th>\n",
       "      <th>annual_inc</th>\n",
       "      <th>verification_status</th>\n",
       "      <th>emp_length</th>\n",
       "      <th>home_ownership</th>\n",
       "      <th>int_rate</th>\n",
       "      <th>loan_amnt</th>\n",
       "      <th>purpose</th>\n",
       "      <th>term</th>\n",
       "      <th>grade</th>\n",
       "    </tr>\n",
       "  </thead>\n",
       "  <tbody>\n",
       "    <tr>\n",
       "      <th>38700</th>\n",
       "      <td>Fully Paid</td>\n",
       "      <td>110000.0</td>\n",
       "      <td>Not Verified</td>\n",
       "      <td>4 years</td>\n",
       "      <td>MORTGAGE</td>\n",
       "      <td>8.07%</td>\n",
       "      <td>2500</td>\n",
       "      <td>home_improvement</td>\n",
       "      <td>36 months</td>\n",
       "      <td>A</td>\n",
       "    </tr>\n",
       "    <tr>\n",
       "      <th>38701</th>\n",
       "      <td>Fully Paid</td>\n",
       "      <td>18000.0</td>\n",
       "      <td>Not Verified</td>\n",
       "      <td>3 years</td>\n",
       "      <td>RENT</td>\n",
       "      <td>10.28%</td>\n",
       "      <td>8500</td>\n",
       "      <td>credit_card</td>\n",
       "      <td>36 months</td>\n",
       "      <td>C</td>\n",
       "    </tr>\n",
       "    <tr>\n",
       "      <th>38702</th>\n",
       "      <td>Fully Paid</td>\n",
       "      <td>100000.0</td>\n",
       "      <td>Not Verified</td>\n",
       "      <td>&lt; 1 year</td>\n",
       "      <td>MORTGAGE</td>\n",
       "      <td>8.07%</td>\n",
       "      <td>5000</td>\n",
       "      <td>debt_consolidation</td>\n",
       "      <td>36 months</td>\n",
       "      <td>A</td>\n",
       "    </tr>\n",
       "    <tr>\n",
       "      <th>38703</th>\n",
       "      <td>Fully Paid</td>\n",
       "      <td>200000.0</td>\n",
       "      <td>Not Verified</td>\n",
       "      <td>&lt; 1 year</td>\n",
       "      <td>MORTGAGE</td>\n",
       "      <td>7.43%</td>\n",
       "      <td>5000</td>\n",
       "      <td>other</td>\n",
       "      <td>36 months</td>\n",
       "      <td>A</td>\n",
       "    </tr>\n",
       "    <tr>\n",
       "      <th>38704</th>\n",
       "      <td>Fully Paid</td>\n",
       "      <td>22000.0</td>\n",
       "      <td>Not Verified</td>\n",
       "      <td>&lt; 1 year</td>\n",
       "      <td>OWN</td>\n",
       "      <td>13.75%</td>\n",
       "      <td>7500</td>\n",
       "      <td>debt_consolidation</td>\n",
       "      <td>36 months</td>\n",
       "      <td>E</td>\n",
       "    </tr>\n",
       "  </tbody>\n",
       "</table>\n",
       "</div>"
      ],
      "text/plain": [
       "      loan_status  annual_inc verification_status emp_length home_ownership  \\\n",
       "38700  Fully Paid    110000.0        Not Verified    4 years       MORTGAGE   \n",
       "38701  Fully Paid     18000.0        Not Verified    3 years           RENT   \n",
       "38702  Fully Paid    100000.0        Not Verified   < 1 year       MORTGAGE   \n",
       "38703  Fully Paid    200000.0        Not Verified   < 1 year       MORTGAGE   \n",
       "38704  Fully Paid     22000.0        Not Verified   < 1 year            OWN   \n",
       "\n",
       "      int_rate  loan_amnt             purpose        term grade  \n",
       "38700    8.07%       2500    home_improvement   36 months     A  \n",
       "38701   10.28%       8500         credit_card   36 months     C  \n",
       "38702    8.07%       5000  debt_consolidation   36 months     A  \n",
       "38703    7.43%       5000               other   36 months     A  \n",
       "38704   13.75%       7500  debt_consolidation   36 months     E  "
      ]
     },
     "execution_count": 32,
     "metadata": {},
     "output_type": "execute_result"
    }
   ],
   "source": [
    "datos.tail(5)"
   ]
  },
  {
   "cell_type": "code",
   "execution_count": 33,
   "id": "e756c0a7",
   "metadata": {
    "scrolled": true
   },
   "outputs": [
    {
     "name": "stdout",
     "output_type": "stream",
     "text": [
      "<class 'pandas.core.frame.DataFrame'>\n",
      "RangeIndex: 38705 entries, 0 to 38704\n",
      "Data columns (total 10 columns):\n",
      " #   Column               Non-Null Count  Dtype  \n",
      "---  ------               --------------  -----  \n",
      " 0   loan_status          38705 non-null  object \n",
      " 1   annual_inc           38705 non-null  float64\n",
      " 2   verification_status  38705 non-null  object \n",
      " 3   emp_length           38705 non-null  object \n",
      " 4   home_ownership       38705 non-null  object \n",
      " 5   int_rate             38705 non-null  object \n",
      " 6   loan_amnt            38705 non-null  int64  \n",
      " 7   purpose              38705 non-null  object \n",
      " 8   term                 38705 non-null  object \n",
      " 9   grade                38705 non-null  object \n",
      "dtypes: float64(1), int64(1), object(8)\n",
      "memory usage: 3.0+ MB\n"
     ]
    },
    {
     "data": {
      "text/html": [
       "<div>\n",
       "<style scoped>\n",
       "    .dataframe tbody tr th:only-of-type {\n",
       "        vertical-align: middle;\n",
       "    }\n",
       "\n",
       "    .dataframe tbody tr th {\n",
       "        vertical-align: top;\n",
       "    }\n",
       "\n",
       "    .dataframe thead th {\n",
       "        text-align: right;\n",
       "    }\n",
       "</style>\n",
       "<table border=\"1\" class=\"dataframe\">\n",
       "  <thead>\n",
       "    <tr style=\"text-align: right;\">\n",
       "      <th></th>\n",
       "      <th>annual_inc</th>\n",
       "      <th>loan_amnt</th>\n",
       "    </tr>\n",
       "  </thead>\n",
       "  <tbody>\n",
       "    <tr>\n",
       "      <th>count</th>\n",
       "      <td>3.870500e+04</td>\n",
       "      <td>38705.000000</td>\n",
       "    </tr>\n",
       "    <tr>\n",
       "      <th>mean</th>\n",
       "      <td>6.961750e+04</td>\n",
       "      <td>11303.916161</td>\n",
       "    </tr>\n",
       "    <tr>\n",
       "      <th>std</th>\n",
       "      <td>6.422378e+04</td>\n",
       "      <td>7470.319733</td>\n",
       "    </tr>\n",
       "    <tr>\n",
       "      <th>min</th>\n",
       "      <td>4.000000e+03</td>\n",
       "      <td>500.000000</td>\n",
       "    </tr>\n",
       "    <tr>\n",
       "      <th>25%</th>\n",
       "      <td>4.149600e+04</td>\n",
       "      <td>5500.000000</td>\n",
       "    </tr>\n",
       "    <tr>\n",
       "      <th>50%</th>\n",
       "      <td>6.000000e+04</td>\n",
       "      <td>10000.000000</td>\n",
       "    </tr>\n",
       "    <tr>\n",
       "      <th>75%</th>\n",
       "      <td>8.320000e+04</td>\n",
       "      <td>15000.000000</td>\n",
       "    </tr>\n",
       "    <tr>\n",
       "      <th>max</th>\n",
       "      <td>6.000000e+06</td>\n",
       "      <td>35000.000000</td>\n",
       "    </tr>\n",
       "  </tbody>\n",
       "</table>\n",
       "</div>"
      ],
      "text/plain": [
       "         annual_inc     loan_amnt\n",
       "count  3.870500e+04  38705.000000\n",
       "mean   6.961750e+04  11303.916161\n",
       "std    6.422378e+04   7470.319733\n",
       "min    4.000000e+03    500.000000\n",
       "25%    4.149600e+04   5500.000000\n",
       "50%    6.000000e+04  10000.000000\n",
       "75%    8.320000e+04  15000.000000\n",
       "max    6.000000e+06  35000.000000"
      ]
     },
     "execution_count": 33,
     "metadata": {},
     "output_type": "execute_result"
    }
   ],
   "source": [
    "#EXPLORAR DATOS\n",
    "datos.info()\n",
    "datos.describe()"
   ]
  },
  {
   "cell_type": "code",
   "execution_count": 34,
   "id": "4e154783",
   "metadata": {},
   "outputs": [
    {
     "data": {
      "text/html": [
       "<div>\n",
       "<style scoped>\n",
       "    .dataframe tbody tr th:only-of-type {\n",
       "        vertical-align: middle;\n",
       "    }\n",
       "\n",
       "    .dataframe tbody tr th {\n",
       "        vertical-align: top;\n",
       "    }\n",
       "\n",
       "    .dataframe thead th {\n",
       "        text-align: right;\n",
       "    }\n",
       "</style>\n",
       "<table border=\"1\" class=\"dataframe\">\n",
       "  <thead>\n",
       "    <tr style=\"text-align: right;\">\n",
       "      <th></th>\n",
       "      <th>loan_status</th>\n",
       "      <th>verification_status</th>\n",
       "      <th>emp_length</th>\n",
       "      <th>home_ownership</th>\n",
       "      <th>int_rate</th>\n",
       "      <th>purpose</th>\n",
       "      <th>term</th>\n",
       "      <th>grade</th>\n",
       "    </tr>\n",
       "  </thead>\n",
       "  <tbody>\n",
       "    <tr>\n",
       "      <th>count</th>\n",
       "      <td>38705</td>\n",
       "      <td>38705</td>\n",
       "      <td>38705</td>\n",
       "      <td>38705</td>\n",
       "      <td>38705</td>\n",
       "      <td>38705</td>\n",
       "      <td>38705</td>\n",
       "      <td>38705</td>\n",
       "    </tr>\n",
       "    <tr>\n",
       "      <th>unique</th>\n",
       "      <td>2</td>\n",
       "      <td>3</td>\n",
       "      <td>11</td>\n",
       "      <td>4</td>\n",
       "      <td>371</td>\n",
       "      <td>14</td>\n",
       "      <td>2</td>\n",
       "      <td>7</td>\n",
       "    </tr>\n",
       "    <tr>\n",
       "      <th>top</th>\n",
       "      <td>Fully Paid</td>\n",
       "      <td>Not Verified</td>\n",
       "      <td>10+ years</td>\n",
       "      <td>RENT</td>\n",
       "      <td>10.99%</td>\n",
       "      <td>debt_consolidation</td>\n",
       "      <td>36 months</td>\n",
       "      <td>B</td>\n",
       "    </tr>\n",
       "    <tr>\n",
       "      <th>freq</th>\n",
       "      <td>33265</td>\n",
       "      <td>16499</td>\n",
       "      <td>8899</td>\n",
       "      <td>18507</td>\n",
       "      <td>934</td>\n",
       "      <td>18275</td>\n",
       "      <td>28284</td>\n",
       "      <td>11697</td>\n",
       "    </tr>\n",
       "  </tbody>\n",
       "</table>\n",
       "</div>"
      ],
      "text/plain": [
       "       loan_status verification_status emp_length home_ownership int_rate  \\\n",
       "count        38705               38705      38705          38705    38705   \n",
       "unique           2                   3         11              4      371   \n",
       "top     Fully Paid        Not Verified  10+ years           RENT   10.99%   \n",
       "freq         33265               16499       8899          18507      934   \n",
       "\n",
       "                   purpose        term  grade  \n",
       "count                38705       38705  38705  \n",
       "unique                  14           2      7  \n",
       "top     debt_consolidation   36 months      B  \n",
       "freq                 18275       28284  11697  "
      ]
     },
     "execution_count": 34,
     "metadata": {},
     "output_type": "execute_result"
    }
   ],
   "source": [
    "datos.describe(include = 'object')"
   ]
  },
  {
   "cell_type": "code",
   "execution_count": 35,
   "id": "ae57ff63",
   "metadata": {},
   "outputs": [
    {
     "data": {
      "image/png": "[encoded data removed]",
      "text/plain": [
       "<Figure size 560.75x500 with 6 Axes>"
      ]
     },
     "metadata": {},
     "output_type": "display_data"
    }
   ],
   "source": [
    "sb.pairplot(data = datos, vars = ['annual_inc', 'loan_amnt'], hue = 'grade', kind = 'scatter')\n",
    "plt.show()"
   ]
  },
  {
   "cell_type": "code",
   "execution_count": 36,
   "id": "f414fd21",
   "metadata": {
    "scrolled": true
   },
   "outputs": [
    {
     "data": {
      "image/png": "[encoded data removed]",
      "text/plain": [
       "<Figure size 640x480 with 2 Axes>"
      ]
     },
     "metadata": {},
     "output_type": "display_data"
    }
   ],
   "source": [
    "sb.heatmap(datos.corr(), annot = True)\n",
    "plt.show()"
   ]
  },
  {
   "cell_type": "code",
   "execution_count": 37,
   "id": "c9502a1b",
   "metadata": {
    "scrolled": true
   },
   "outputs": [
    {
     "data": {
      "text/html": [
       "<div>\n",
       "<style scoped>\n",
       "    .dataframe tbody tr th:only-of-type {\n",
       "        vertical-align: middle;\n",
       "    }\n",
       "\n",
       "    .dataframe tbody tr th {\n",
       "        vertical-align: top;\n",
       "    }\n",
       "\n",
       "    .dataframe thead th {\n",
       "        text-align: right;\n",
       "    }\n",
       "</style>\n",
       "<table border=\"1\" class=\"dataframe\">\n",
       "  <thead>\n",
       "    <tr style=\"text-align: right;\">\n",
       "      <th></th>\n",
       "      <th>loan_status</th>\n",
       "      <th>annual_inc</th>\n",
       "      <th>verification_status</th>\n",
       "      <th>emp_length</th>\n",
       "      <th>home_ownership</th>\n",
       "      <th>int_rate</th>\n",
       "      <th>loan_amnt</th>\n",
       "      <th>purpose</th>\n",
       "      <th>term</th>\n",
       "      <th>grade</th>\n",
       "    </tr>\n",
       "  </thead>\n",
       "  <tbody>\n",
       "    <tr>\n",
       "      <th>0</th>\n",
       "      <td>0</td>\n",
       "      <td>24000.0</td>\n",
       "      <td>Verified</td>\n",
       "      <td>10+ years</td>\n",
       "      <td>RENT</td>\n",
       "      <td>10.65%</td>\n",
       "      <td>5000</td>\n",
       "      <td>credit_card</td>\n",
       "      <td>36 months</td>\n",
       "      <td>B</td>\n",
       "    </tr>\n",
       "    <tr>\n",
       "      <th>1</th>\n",
       "      <td>1</td>\n",
       "      <td>30000.0</td>\n",
       "      <td>Source Verified</td>\n",
       "      <td>&lt; 1 year</td>\n",
       "      <td>RENT</td>\n",
       "      <td>15.27%</td>\n",
       "      <td>2500</td>\n",
       "      <td>car</td>\n",
       "      <td>60 months</td>\n",
       "      <td>C</td>\n",
       "    </tr>\n",
       "    <tr>\n",
       "      <th>2</th>\n",
       "      <td>0</td>\n",
       "      <td>12252.0</td>\n",
       "      <td>Not Verified</td>\n",
       "      <td>10+ years</td>\n",
       "      <td>RENT</td>\n",
       "      <td>15.96%</td>\n",
       "      <td>2400</td>\n",
       "      <td>small_business</td>\n",
       "      <td>36 months</td>\n",
       "      <td>C</td>\n",
       "    </tr>\n",
       "    <tr>\n",
       "      <th>3</th>\n",
       "      <td>0</td>\n",
       "      <td>49200.0</td>\n",
       "      <td>Source Verified</td>\n",
       "      <td>10+ years</td>\n",
       "      <td>RENT</td>\n",
       "      <td>13.49%</td>\n",
       "      <td>10000</td>\n",
       "      <td>other</td>\n",
       "      <td>36 months</td>\n",
       "      <td>C</td>\n",
       "    </tr>\n",
       "    <tr>\n",
       "      <th>4</th>\n",
       "      <td>0</td>\n",
       "      <td>80000.0</td>\n",
       "      <td>Source Verified</td>\n",
       "      <td>1 year</td>\n",
       "      <td>RENT</td>\n",
       "      <td>12.69%</td>\n",
       "      <td>3000</td>\n",
       "      <td>other</td>\n",
       "      <td>60 months</td>\n",
       "      <td>B</td>\n",
       "    </tr>\n",
       "  </tbody>\n",
       "</table>\n",
       "</div>"
      ],
      "text/plain": [
       "   loan_status  annual_inc verification_status emp_length home_ownership  \\\n",
       "0            0     24000.0            Verified  10+ years           RENT   \n",
       "1            1     30000.0     Source Verified   < 1 year           RENT   \n",
       "2            0     12252.0        Not Verified  10+ years           RENT   \n",
       "3            0     49200.0     Source Verified  10+ years           RENT   \n",
       "4            0     80000.0     Source Verified     1 year           RENT   \n",
       "\n",
       "  int_rate  loan_amnt         purpose        term grade  \n",
       "0   10.65%       5000     credit_card   36 months     B  \n",
       "1   15.27%       2500             car   60 months     C  \n",
       "2   15.96%       2400  small_business   36 months     C  \n",
       "3   13.49%      10000           other   36 months     C  \n",
       "4   12.69%       3000           other   60 months     B  "
      ]
     },
     "execution_count": 37,
     "metadata": {},
     "output_type": "execute_result"
    }
   ],
   "source": [
    "#PREPARACIÓN DE DATOS\n",
    "datos['loan_status'] = np.where(datos['loan_status'] == 'Fully Paid', 0, 1)\n",
    "datos.head()"
   ]
  },
  {
   "cell_type": "code",
   "execution_count": 38,
   "id": "b8b897bf",
   "metadata": {},
   "outputs": [],
   "source": [
    "## TRY TO GET INT RATE TO NUM\n",
    "#datos[\"int_rate\"] = datos[\"int_rate\"].astype(float)\n",
    "def quitar_ultimo_char(string):\n",
    "    return(string[:-1])\n",
    "\n",
    "datos[\"int_rate_str\"] = datos[\"int_rate\"]\n",
    "\n",
    "quitar_ultimo_char_v = np.vectorize(quitar_ultimo_char)\n",
    "\n",
    "datos.drop(\"int_rate\", inplace = True, axis = 1)\n",
    "datos.head()\n",
    "\n",
    "datos[\"int_rate\"] = quitar_ultimo_char_v(datos[\"int_rate_str\"]).astype(float)"
   ]
  },
  {
   "cell_type": "code",
   "execution_count": 39,
   "id": "b259baf9",
   "metadata": {},
   "outputs": [
    {
     "data": {
      "text/html": [
       "<div>\n",
       "<style scoped>\n",
       "    .dataframe tbody tr th:only-of-type {\n",
       "        vertical-align: middle;\n",
       "    }\n",
       "\n",
       "    .dataframe tbody tr th {\n",
       "        vertical-align: top;\n",
       "    }\n",
       "\n",
       "    .dataframe thead th {\n",
       "        text-align: right;\n",
       "    }\n",
       "</style>\n",
       "<table border=\"1\" class=\"dataframe\">\n",
       "  <thead>\n",
       "    <tr style=\"text-align: right;\">\n",
       "      <th></th>\n",
       "      <th>loan_status</th>\n",
       "      <th>annual_inc</th>\n",
       "      <th>verification_status</th>\n",
       "      <th>emp_length</th>\n",
       "      <th>home_ownership</th>\n",
       "      <th>loan_amnt</th>\n",
       "      <th>purpose</th>\n",
       "      <th>term</th>\n",
       "      <th>grade</th>\n",
       "      <th>int_rate</th>\n",
       "    </tr>\n",
       "  </thead>\n",
       "  <tbody>\n",
       "    <tr>\n",
       "      <th>0</th>\n",
       "      <td>0</td>\n",
       "      <td>24000.0</td>\n",
       "      <td>Verified</td>\n",
       "      <td>10+ years</td>\n",
       "      <td>RENT</td>\n",
       "      <td>5000</td>\n",
       "      <td>credit_card</td>\n",
       "      <td>36 months</td>\n",
       "      <td>B</td>\n",
       "      <td>10.65</td>\n",
       "    </tr>\n",
       "    <tr>\n",
       "      <th>1</th>\n",
       "      <td>1</td>\n",
       "      <td>30000.0</td>\n",
       "      <td>Source Verified</td>\n",
       "      <td>&lt; 1 year</td>\n",
       "      <td>RENT</td>\n",
       "      <td>2500</td>\n",
       "      <td>car</td>\n",
       "      <td>60 months</td>\n",
       "      <td>C</td>\n",
       "      <td>15.27</td>\n",
       "    </tr>\n",
       "    <tr>\n",
       "      <th>2</th>\n",
       "      <td>0</td>\n",
       "      <td>12252.0</td>\n",
       "      <td>Not Verified</td>\n",
       "      <td>10+ years</td>\n",
       "      <td>RENT</td>\n",
       "      <td>2400</td>\n",
       "      <td>small_business</td>\n",
       "      <td>36 months</td>\n",
       "      <td>C</td>\n",
       "      <td>15.96</td>\n",
       "    </tr>\n",
       "    <tr>\n",
       "      <th>3</th>\n",
       "      <td>0</td>\n",
       "      <td>49200.0</td>\n",
       "      <td>Source Verified</td>\n",
       "      <td>10+ years</td>\n",
       "      <td>RENT</td>\n",
       "      <td>10000</td>\n",
       "      <td>other</td>\n",
       "      <td>36 months</td>\n",
       "      <td>C</td>\n",
       "      <td>13.49</td>\n",
       "    </tr>\n",
       "    <tr>\n",
       "      <th>4</th>\n",
       "      <td>0</td>\n",
       "      <td>80000.0</td>\n",
       "      <td>Source Verified</td>\n",
       "      <td>1 year</td>\n",
       "      <td>RENT</td>\n",
       "      <td>3000</td>\n",
       "      <td>other</td>\n",
       "      <td>60 months</td>\n",
       "      <td>B</td>\n",
       "      <td>12.69</td>\n",
       "    </tr>\n",
       "  </tbody>\n",
       "</table>\n",
       "</div>"
      ],
      "text/plain": [
       "   loan_status  annual_inc verification_status emp_length home_ownership  \\\n",
       "0            0     24000.0            Verified  10+ years           RENT   \n",
       "1            1     30000.0     Source Verified   < 1 year           RENT   \n",
       "2            0     12252.0        Not Verified  10+ years           RENT   \n",
       "3            0     49200.0     Source Verified  10+ years           RENT   \n",
       "4            0     80000.0     Source Verified     1 year           RENT   \n",
       "\n",
       "   loan_amnt         purpose        term grade  int_rate  \n",
       "0       5000     credit_card   36 months     B     10.65  \n",
       "1       2500             car   60 months     C     15.27  \n",
       "2       2400  small_business   36 months     C     15.96  \n",
       "3      10000           other   36 months     C     13.49  \n",
       "4       3000           other   60 months     B     12.69  "
      ]
     },
     "execution_count": 39,
     "metadata": {},
     "output_type": "execute_result"
    }
   ],
   "source": [
    "datos.drop('int_rate_str', inplace = True, axis = 1)\n",
    "datos.head()"
   ]
  },
  {
   "cell_type": "code",
   "execution_count": 40,
   "id": "35985314",
   "metadata": {},
   "outputs": [
    {
     "name": "stdout",
     "output_type": "stream",
     "text": [
      "<class 'pandas.core.frame.DataFrame'>\n",
      "RangeIndex: 38705 entries, 0 to 38704\n",
      "Data columns (total 10 columns):\n",
      " #   Column               Non-Null Count  Dtype  \n",
      "---  ------               --------------  -----  \n",
      " 0   loan_status          38705 non-null  int32  \n",
      " 1   annual_inc           38705 non-null  float64\n",
      " 2   verification_status  38705 non-null  object \n",
      " 3   emp_length           38705 non-null  object \n",
      " 4   home_ownership       38705 non-null  object \n",
      " 5   loan_amnt            38705 non-null  int64  \n",
      " 6   purpose              38705 non-null  object \n",
      " 7   term                 38705 non-null  object \n",
      " 8   grade                38705 non-null  object \n",
      " 9   int_rate             38705 non-null  float64\n",
      "dtypes: float64(2), int32(1), int64(1), object(6)\n",
      "memory usage: 2.8+ MB\n"
     ]
    }
   ],
   "source": [
    "datos.head()\n",
    "datos.info()"
   ]
  },
  {
   "cell_type": "code",
   "execution_count": 41,
   "id": "b7594bef",
   "metadata": {},
   "outputs": [],
   "source": [
    "x = datos.drop('loan_status', axis = 1)\n",
    "y = datos['loan_status']"
   ]
  },
  {
   "cell_type": "code",
   "execution_count": 42,
   "id": "baed780e",
   "metadata": {},
   "outputs": [],
   "source": [
    "numCols = x.select_dtypes(include = ['float64', 'int64']).columns.to_list()\n",
    "matCols = x[['verification_status', 'home_ownership', 'term', 'emp_length', 'grade']].columns.to_list()\n",
    "ordCols = x[['purpose']].columns.to_list()"
   ]
  },
  {
   "cell_type": "code",
   "execution_count": 43,
   "id": "9714a8b6",
   "metadata": {},
   "outputs": [
    {
     "data": {
      "text/plain": [
       "['annual_inc', 'loan_amnt', 'int_rate']"
      ]
     },
     "execution_count": 43,
     "metadata": {},
     "output_type": "execute_result"
    }
   ],
   "source": [
    "numCols"
   ]
  },
  {
   "cell_type": "code",
   "execution_count": 44,
   "id": "d2a1e2da",
   "metadata": {},
   "outputs": [
    {
     "data": {
      "text/plain": [
       "['verification_status', 'home_ownership', 'term', 'emp_length', 'grade']"
      ]
     },
     "execution_count": 44,
     "metadata": {},
     "output_type": "execute_result"
    }
   ],
   "source": [
    "matCols"
   ]
  },
  {
   "cell_type": "code",
   "execution_count": 45,
   "id": "ecb22cbd",
   "metadata": {},
   "outputs": [
    {
     "data": {
      "text/plain": [
       "['purpose']"
      ]
     },
     "execution_count": 45,
     "metadata": {},
     "output_type": "execute_result"
    }
   ],
   "source": [
    "ordCols"
   ]
  },
  {
   "cell_type": "code",
   "execution_count": 46,
   "id": "54e04516",
   "metadata": {},
   "outputs": [],
   "source": [
    "numTransformer = Pipeline(steps = [('scaler', MinMaxScaler())])\n",
    "matTransformer = Pipeline(steps = [('onehot', OneHotEncoder(handle_unknown = 'ignore'))])\n",
    "ordTransformer = Pipeline(steps = [('ordinal', OrdinalEncoder(handle_unknown = 'error'))])"
   ]
  },
  {
   "cell_type": "code",
   "execution_count": 47,
   "id": "f1a958e1",
   "metadata": {},
   "outputs": [
    {
     "data": {
      "text/html": [
       "<style>#sk-21c901c6-19c8-4f56-ba93-6c4b9f23ba39 {color: black;background-color: white;}#sk-21c901c6-19c8-4f56-ba93-6c4b9f23ba39 pre{padding: 0;}#sk-21c901c6-19c8-4f56-ba93-6c4b9f23ba39 div.sk-toggleable {background-color: white;}#sk-21c901c6-19c8-4f56-ba93-6c4b9f23ba39 label.sk-toggleable__label {cursor: pointer;display: block;width: 100%;margin-bottom: 0;padding: 0.3em;box-sizing: border-box;text-align: center;}#sk-21c901c6-19c8-4f56-ba93-6c4b9f23ba39 label.sk-toggleable__label-arrow:before {content: \"▸\";float: left;margin-right: 0.25em;color: #696969;}#sk-21c901c6-19c8-4f56-ba93-6c4b9f23ba39 label.sk-toggleable__label-arrow:hover:before {color: black;}#sk-21c901c6-19c8-4f56-ba93-6c4b9f23ba39 div.sk-estimator:hover label.sk-toggleable__label-arrow:before {color: black;}#sk-21c901c6-19c8-4f56-ba93-6c4b9f23ba39 div.sk-toggleable__content {max-height: 0;max-width: 0;overflow: hidden;text-align: left;background-color: #f0f8ff;}#sk-21c901c6-19c8-4f56-ba93-6c4b9f23ba39 div.sk-toggleable__content pre {margin: 0.2em;color: black;border-radius: 0.25em;background-color: #f0f8ff;}#sk-21c901c6-19c8-4f56-ba93-6c4b9f23ba39 input.sk-toggleable__control:checked~div.sk-toggleable__content {max-height: 200px;max-width: 100%;overflow: auto;}#sk-21c901c6-19c8-4f56-ba93-6c4b9f23ba39 input.sk-toggleable__control:checked~label.sk-toggleable__label-arrow:before {content: \"▾\";}#sk-21c901c6-19c8-4f56-ba93-6c4b9f23ba39 div.sk-estimator input.sk-toggleable__control:checked~label.sk-toggleable__label {background-color: #d4ebff;}#sk-21c901c6-19c8-4f56-ba93-6c4b9f23ba39 div.sk-label input.sk-toggleable__control:checked~label.sk-toggleable__label {background-color: #d4ebff;}#sk-21c901c6-19c8-4f56-ba93-6c4b9f23ba39 input.sk-hidden--visually {border: 0;clip: rect(1px 1px 1px 1px);clip: rect(1px, 1px, 1px, 1px);height: 1px;margin: -1px;overflow: hidden;padding: 0;position: absolute;width: 1px;}#sk-21c901c6-19c8-4f56-ba93-6c4b9f23ba39 div.sk-estimator {font-family: monospace;background-color: #f0f8ff;border: 1px dotted black;border-radius: 0.25em;box-sizing: border-box;margin-bottom: 0.5em;}#sk-21c901c6-19c8-4f56-ba93-6c4b9f23ba39 div.sk-estimator:hover {background-color: #d4ebff;}#sk-21c901c6-19c8-4f56-ba93-6c4b9f23ba39 div.sk-parallel-item::after {content: \"\";width: 100%;border-bottom: 1px solid gray;flex-grow: 1;}#sk-21c901c6-19c8-4f56-ba93-6c4b9f23ba39 div.sk-label:hover label.sk-toggleable__label {background-color: #d4ebff;}#sk-21c901c6-19c8-4f56-ba93-6c4b9f23ba39 div.sk-serial::before {content: \"\";position: absolute;border-left: 1px solid gray;box-sizing: border-box;top: 2em;bottom: 0;left: 50%;}#sk-21c901c6-19c8-4f56-ba93-6c4b9f23ba39 div.sk-serial {display: flex;flex-direction: column;align-items: center;background-color: white;padding-right: 0.2em;padding-left: 0.2em;}#sk-21c901c6-19c8-4f56-ba93-6c4b9f23ba39 div.sk-item {z-index: 1;}#sk-21c901c6-19c8-4f56-ba93-6c4b9f23ba39 div.sk-parallel {display: flex;align-items: stretch;justify-content: center;background-color: white;}#sk-21c901c6-19c8-4f56-ba93-6c4b9f23ba39 div.sk-parallel::before {content: \"\";position: absolute;border-left: 1px solid gray;box-sizing: border-box;top: 2em;bottom: 0;left: 50%;}#sk-21c901c6-19c8-4f56-ba93-6c4b9f23ba39 div.sk-parallel-item {display: flex;flex-direction: column;position: relative;background-color: white;}#sk-21c901c6-19c8-4f56-ba93-6c4b9f23ba39 div.sk-parallel-item:first-child::after {align-self: flex-end;width: 50%;}#sk-21c901c6-19c8-4f56-ba93-6c4b9f23ba39 div.sk-parallel-item:last-child::after {align-self: flex-start;width: 50%;}#sk-21c901c6-19c8-4f56-ba93-6c4b9f23ba39 div.sk-parallel-item:only-child::after {width: 0;}#sk-21c901c6-19c8-4f56-ba93-6c4b9f23ba39 div.sk-dashed-wrapped {border: 1px dashed gray;margin: 0 0.4em 0.5em 0.4em;box-sizing: border-box;padding-bottom: 0.4em;background-color: white;position: relative;}#sk-21c901c6-19c8-4f56-ba93-6c4b9f23ba39 div.sk-label label {font-family: monospace;font-weight: bold;background-color: white;display: inline-block;line-height: 1.2em;}#sk-21c901c6-19c8-4f56-ba93-6c4b9f23ba39 div.sk-label-container {position: relative;z-index: 2;text-align: center;}#sk-21c901c6-19c8-4f56-ba93-6c4b9f23ba39 div.sk-container {/* jupyter's `normalize.less` sets `[hidden] { display: none; }` but bootstrap.min.css set `[hidden] { display: none !important; }` so we also need the `!important` here to be able to override the default hidden behavior on the sphinx rendered scikit-learn.org. See: https://github.com/scikit-learn/scikit-learn/issues/21755 */display: inline-block !important;position: relative;}#sk-21c901c6-19c8-4f56-ba93-6c4b9f23ba39 div.sk-text-repr-fallback {display: none;}</style><div id=\"sk-21c901c6-19c8-4f56-ba93-6c4b9f23ba39\" class=\"sk-top-container\"><div class=\"sk-text-repr-fallback\"><pre>ColumnTransformer(remainder=&#x27;passthrough&#x27;,\n",
       "                  transformers=[(&#x27;numeric&#x27;,\n",
       "                                 Pipeline(steps=[(&#x27;scaler&#x27;, MinMaxScaler())]),\n",
       "                                 [&#x27;annual_inc&#x27;, &#x27;loan_amnt&#x27;, &#x27;int_rate&#x27;]),\n",
       "                                (&#x27;catOhe&#x27;,\n",
       "                                 Pipeline(steps=[(&#x27;onehot&#x27;,\n",
       "                                                  OneHotEncoder(handle_unknown=&#x27;ignore&#x27;))]),\n",
       "                                 [&#x27;verification_status&#x27;, &#x27;home_ownership&#x27;,\n",
       "                                  &#x27;term&#x27;, &#x27;emp_length&#x27;, &#x27;grade&#x27;]),\n",
       "                                (&#x27;catOrd&#x27;,\n",
       "                                 Pipeline(steps=[(&#x27;ordinal&#x27;,\n",
       "                                                  OrdinalEncoder())]),\n",
       "                                 [&#x27;purpose&#x27;])])</pre><b>Please rerun this cell to show the HTML repr or trust the notebook.</b></div><div class=\"sk-container\" hidden><div class=\"sk-item sk-dashed-wrapped\"><div class=\"sk-label-container\"><div class=\"sk-label sk-toggleable\"><input class=\"sk-toggleable__control sk-hidden--visually\" id=\"364338e1-73ff-42e4-9fe3-458f3d39011a\" type=\"checkbox\" ><label for=\"364338e1-73ff-42e4-9fe3-458f3d39011a\" class=\"sk-toggleable__label sk-toggleable__label-arrow\">ColumnTransformer</label><div class=\"sk-toggleable__content\"><pre>ColumnTransformer(remainder=&#x27;passthrough&#x27;,\n",
       "                  transformers=[(&#x27;numeric&#x27;,\n",
       "                                 Pipeline(steps=[(&#x27;scaler&#x27;, MinMaxScaler())]),\n",
       "                                 [&#x27;annual_inc&#x27;, &#x27;loan_amnt&#x27;, &#x27;int_rate&#x27;]),\n",
       "                                (&#x27;catOhe&#x27;,\n",
       "                                 Pipeline(steps=[(&#x27;onehot&#x27;,\n",
       "                                                  OneHotEncoder(handle_unknown=&#x27;ignore&#x27;))]),\n",
       "                                 [&#x27;verification_status&#x27;, &#x27;home_ownership&#x27;,\n",
       "                                  &#x27;term&#x27;, &#x27;emp_length&#x27;, &#x27;grade&#x27;]),\n",
       "                                (&#x27;catOrd&#x27;,\n",
       "                                 Pipeline(steps=[(&#x27;ordinal&#x27;,\n",
       "                                                  OrdinalEncoder())]),\n",
       "                                 [&#x27;purpose&#x27;])])</pre></div></div></div><div class=\"sk-parallel\"><div class=\"sk-parallel-item\"><div class=\"sk-item\"><div class=\"sk-label-container\"><div class=\"sk-label sk-toggleable\"><input class=\"sk-toggleable__control sk-hidden--visually\" id=\"1abf17d7-0c63-445b-9e86-0b1df890ee73\" type=\"checkbox\" ><label for=\"1abf17d7-0c63-445b-9e86-0b1df890ee73\" class=\"sk-toggleable__label sk-toggleable__label-arrow\">numeric</label><div class=\"sk-toggleable__content\"><pre>[&#x27;annual_inc&#x27;, &#x27;loan_amnt&#x27;, &#x27;int_rate&#x27;]</pre></div></div></div><div class=\"sk-serial\"><div class=\"sk-item\"><div class=\"sk-serial\"><div class=\"sk-item\"><div class=\"sk-estimator sk-toggleable\"><input class=\"sk-toggleable__control sk-hidden--visually\" id=\"f39d6cbb-c5ef-455e-95ba-84d8e6d8cf59\" type=\"checkbox\" ><label for=\"f39d6cbb-c5ef-455e-95ba-84d8e6d8cf59\" class=\"sk-toggleable__label sk-toggleable__label-arrow\">MinMaxScaler</label><div class=\"sk-toggleable__content\"><pre>MinMaxScaler()</pre></div></div></div></div></div></div></div></div><div class=\"sk-parallel-item\"><div class=\"sk-item\"><div class=\"sk-label-container\"><div class=\"sk-label sk-toggleable\"><input class=\"sk-toggleable__control sk-hidden--visually\" id=\"8f06dddf-c76c-41ad-972b-79ca49ab31ea\" type=\"checkbox\" ><label for=\"8f06dddf-c76c-41ad-972b-79ca49ab31ea\" class=\"sk-toggleable__label sk-toggleable__label-arrow\">catOhe</label><div class=\"sk-toggleable__content\"><pre>[&#x27;verification_status&#x27;, &#x27;home_ownership&#x27;, &#x27;term&#x27;, &#x27;emp_length&#x27;, &#x27;grade&#x27;]</pre></div></div></div><div class=\"sk-serial\"><div class=\"sk-item\"><div class=\"sk-serial\"><div class=\"sk-item\"><div class=\"sk-estimator sk-toggleable\"><input class=\"sk-toggleable__control sk-hidden--visually\" id=\"48ac3af2-867f-475b-837c-d8ce303b94d9\" type=\"checkbox\" ><label for=\"48ac3af2-867f-475b-837c-d8ce303b94d9\" class=\"sk-toggleable__label sk-toggleable__label-arrow\">OneHotEncoder</label><div class=\"sk-toggleable__content\"><pre>OneHotEncoder(handle_unknown=&#x27;ignore&#x27;)</pre></div></div></div></div></div></div></div></div><div class=\"sk-parallel-item\"><div class=\"sk-item\"><div class=\"sk-label-container\"><div class=\"sk-label sk-toggleable\"><input class=\"sk-toggleable__control sk-hidden--visually\" id=\"c9a5ec48-5005-4e6e-84dd-fbaba86ad257\" type=\"checkbox\" ><label for=\"c9a5ec48-5005-4e6e-84dd-fbaba86ad257\" class=\"sk-toggleable__label sk-toggleable__label-arrow\">catOrd</label><div class=\"sk-toggleable__content\"><pre>[&#x27;purpose&#x27;]</pre></div></div></div><div class=\"sk-serial\"><div class=\"sk-item\"><div class=\"sk-serial\"><div class=\"sk-item\"><div class=\"sk-estimator sk-toggleable\"><input class=\"sk-toggleable__control sk-hidden--visually\" id=\"14bc14b4-e4e0-4163-b68c-127faac9a7a4\" type=\"checkbox\" ><label for=\"14bc14b4-e4e0-4163-b68c-127faac9a7a4\" class=\"sk-toggleable__label sk-toggleable__label-arrow\">OrdinalEncoder</label><div class=\"sk-toggleable__content\"><pre>OrdinalEncoder()</pre></div></div></div></div></div></div></div></div><div class=\"sk-parallel-item\"><div class=\"sk-item\"><div class=\"sk-label-container\"><div class=\"sk-label sk-toggleable\"><input class=\"sk-toggleable__control sk-hidden--visually\" id=\"887c340e-5768-4844-a30d-c4316b70623e\" type=\"checkbox\" ><label for=\"887c340e-5768-4844-a30d-c4316b70623e\" class=\"sk-toggleable__label sk-toggleable__label-arrow\">remainder</label><div class=\"sk-toggleable__content\"><pre></pre></div></div></div><div class=\"sk-serial\"><div class=\"sk-item\"><div class=\"sk-estimator sk-toggleable\"><input class=\"sk-toggleable__control sk-hidden--visually\" id=\"ce22dcf7-dd37-4c9f-a359-8bf1df9ee0bc\" type=\"checkbox\" ><label for=\"ce22dcf7-dd37-4c9f-a359-8bf1df9ee0bc\" class=\"sk-toggleable__label sk-toggleable__label-arrow\">passthrough</label><div class=\"sk-toggleable__content\"><pre>passthrough</pre></div></div></div></div></div></div></div></div></div></div>"
      ],
      "text/plain": [
       "ColumnTransformer(remainder='passthrough',\n",
       "                  transformers=[('numeric',\n",
       "                                 Pipeline(steps=[('scaler', MinMaxScaler())]),\n",
       "                                 ['annual_inc', 'loan_amnt', 'int_rate']),\n",
       "                                ('catOhe',\n",
       "                                 Pipeline(steps=[('onehot',\n",
       "                                                  OneHotEncoder(handle_unknown='ignore'))]),\n",
       "                                 ['verification_status', 'home_ownership',\n",
       "                                  'term', 'emp_length', 'grade']),\n",
       "                                ('catOrd',\n",
       "                                 Pipeline(steps=[('ordinal',\n",
       "                                                  OrdinalEncoder())]),\n",
       "                                 ['purpose'])])"
      ]
     },
     "execution_count": 47,
     "metadata": {},
     "output_type": "execute_result"
    }
   ],
   "source": [
    "preprocesador = ColumnTransformer(transformers = [\n",
    "    ('numeric', numTransformer, numCols),\n",
    "    ('catOhe', matTransformer, matCols),\n",
    "    ('catOrd', ordTransformer, ordCols)\n",
    "], remainder = 'passthrough')\n",
    "\n",
    "set_config(display = 'diagram')\n",
    "preprocesador"
   ]
  },
  {
   "cell_type": "code",
   "execution_count": 48,
   "id": "b6cb0d5e",
   "metadata": {},
   "outputs": [
    {
     "data": {
      "text/plain": [
       "<38705x31 sparse matrix of type '<class 'numpy.float64'>'\n",
       "\twith 346316 stored elements in Compressed Sparse Row format>"
      ]
     },
     "execution_count": 48,
     "metadata": {},
     "output_type": "execute_result"
    }
   ],
   "source": [
    "xpre = preprocesador.fit_transform(x)\n",
    "xpre"
   ]
  },
  {
   "cell_type": "code",
   "execution_count": 49,
   "id": "903120b8",
   "metadata": {},
   "outputs": [
    {
     "data": {
      "text/plain": [
       "array(['verification_status_Not Verified',\n",
       "       'verification_status_Source Verified',\n",
       "       'verification_status_Verified', 'home_ownership_MORTGAGE',\n",
       "       'home_ownership_OTHER', 'home_ownership_OWN',\n",
       "       'home_ownership_RENT', 'term_ 36 months', 'term_ 60 months',\n",
       "       'emp_length_1 year', 'emp_length_10+ years', 'emp_length_2 years',\n",
       "       'emp_length_3 years', 'emp_length_4 years', 'emp_length_5 years',\n",
       "       'emp_length_6 years', 'emp_length_7 years', 'emp_length_8 years',\n",
       "       'emp_length_9 years', 'emp_length_< 1 year', 'grade_A', 'grade_B',\n",
       "       'grade_C', 'grade_D', 'grade_E', 'grade_F', 'grade_G'],\n",
       "      dtype=object)"
      ]
     },
     "execution_count": 49,
     "metadata": {},
     "output_type": "execute_result"
    }
   ],
   "source": [
    "codCat = preprocesador.named_transformers_['catOhe']['onehot'].get_feature_names(matCols)\n",
    "codCat"
   ]
  },
  {
   "cell_type": "code",
   "execution_count": 50,
   "id": "b9c9c542",
   "metadata": {},
   "outputs": [
    {
     "data": {
      "text/plain": [
       "array(['annual_inc', 'loan_amnt', 'int_rate',\n",
       "       'verification_status_Not Verified',\n",
       "       'verification_status_Source Verified',\n",
       "       'verification_status_Verified', 'home_ownership_MORTGAGE',\n",
       "       'home_ownership_OTHER', 'home_ownership_OWN',\n",
       "       'home_ownership_RENT', 'term_ 36 months', 'term_ 60 months',\n",
       "       'emp_length_1 year', 'emp_length_10+ years', 'emp_length_2 years',\n",
       "       'emp_length_3 years', 'emp_length_4 years', 'emp_length_5 years',\n",
       "       'emp_length_6 years', 'emp_length_7 years', 'emp_length_8 years',\n",
       "       'emp_length_9 years', 'emp_length_< 1 year', 'grade_A', 'grade_B',\n",
       "       'grade_C', 'grade_D', 'grade_E', 'grade_F', 'grade_G', 'purpose'],\n",
       "      dtype=object)"
      ]
     },
     "execution_count": 50,
     "metadata": {},
     "output_type": "execute_result"
    }
   ],
   "source": [
    "labels = np.concatenate([numCols, codCat, ordCols])\n",
    "labels"
   ]
  },
  {
   "cell_type": "code",
   "execution_count": 51,
   "id": "b22d7f1f",
   "metadata": {},
   "outputs": [
    {
     "ename": "ValueError",
     "evalue": "Shape of passed values is (38705, 1), indices imply (38705, 31)",
     "output_type": "error",
     "traceback": [
      "\u001b[1;31m---------------------------------------------------------------------------\u001b[0m",
      "\u001b[1;31mValueError\u001b[0m                                Traceback (most recent call last)",
      "\u001b[1;32m~\\AppData\\Local\\Temp\\ipykernel_13644\\3813393997.py\u001b[0m in \u001b[0;36m<module>\u001b[1;34m\u001b[0m\n\u001b[1;32m----> 1\u001b[1;33m \u001b[0mxpro\u001b[0m \u001b[1;33m=\u001b[0m \u001b[0mpd\u001b[0m\u001b[1;33m.\u001b[0m\u001b[0mDataFrame\u001b[0m\u001b[1;33m(\u001b[0m\u001b[0mxpre\u001b[0m\u001b[1;33m,\u001b[0m \u001b[0mcolumns\u001b[0m \u001b[1;33m=\u001b[0m \u001b[0mlabels\u001b[0m\u001b[1;33m)\u001b[0m\u001b[1;33m\u001b[0m\u001b[1;33m\u001b[0m\u001b[0m\n\u001b[0m\u001b[0;32m      2\u001b[0m \u001b[0mxpro\u001b[0m\u001b[1;33m.\u001b[0m\u001b[0mhead\u001b[0m\u001b[1;33m(\u001b[0m\u001b[1;33m)\u001b[0m\u001b[1;33m\u001b[0m\u001b[1;33m\u001b[0m\u001b[0m\n",
      "\u001b[1;32m~\\anaconda3\\lib\\site-packages\\pandas\\core\\frame.py\u001b[0m in \u001b[0;36m__init__\u001b[1;34m(self, data, index, columns, dtype, copy)\u001b[0m\n\u001b[0;32m    735\u001b[0m                     )\n\u001b[0;32m    736\u001b[0m                 \u001b[1;32melse\u001b[0m\u001b[1;33m:\u001b[0m\u001b[1;33m\u001b[0m\u001b[1;33m\u001b[0m\u001b[0m\n\u001b[1;32m--> 737\u001b[1;33m                     mgr = ndarray_to_mgr(\n\u001b[0m\u001b[0;32m    738\u001b[0m                         \u001b[0mdata\u001b[0m\u001b[1;33m,\u001b[0m\u001b[1;33m\u001b[0m\u001b[1;33m\u001b[0m\u001b[0m\n\u001b[0;32m    739\u001b[0m                         \u001b[0mindex\u001b[0m\u001b[1;33m,\u001b[0m\u001b[1;33m\u001b[0m\u001b[1;33m\u001b[0m\u001b[0m\n",
      "\u001b[1;32m~\\anaconda3\\lib\\site-packages\\pandas\\core\\internals\\construction.py\u001b[0m in \u001b[0;36mndarray_to_mgr\u001b[1;34m(values, index, columns, dtype, copy, typ)\u001b[0m\n\u001b[0;32m    349\u001b[0m     )\n\u001b[0;32m    350\u001b[0m \u001b[1;33m\u001b[0m\u001b[0m\n\u001b[1;32m--> 351\u001b[1;33m     \u001b[0m_check_values_indices_shape_match\u001b[0m\u001b[1;33m(\u001b[0m\u001b[0mvalues\u001b[0m\u001b[1;33m,\u001b[0m \u001b[0mindex\u001b[0m\u001b[1;33m,\u001b[0m \u001b[0mcolumns\u001b[0m\u001b[1;33m)\u001b[0m\u001b[1;33m\u001b[0m\u001b[1;33m\u001b[0m\u001b[0m\n\u001b[0m\u001b[0;32m    352\u001b[0m \u001b[1;33m\u001b[0m\u001b[0m\n\u001b[0;32m    353\u001b[0m     \u001b[1;32mif\u001b[0m \u001b[0mtyp\u001b[0m \u001b[1;33m==\u001b[0m \u001b[1;34m\"array\"\u001b[0m\u001b[1;33m:\u001b[0m\u001b[1;33m\u001b[0m\u001b[1;33m\u001b[0m\u001b[0m\n",
      "\u001b[1;32m~\\anaconda3\\lib\\site-packages\\pandas\\core\\internals\\construction.py\u001b[0m in \u001b[0;36m_check_values_indices_shape_match\u001b[1;34m(values, index, columns)\u001b[0m\n\u001b[0;32m    420\u001b[0m         \u001b[0mpassed\u001b[0m \u001b[1;33m=\u001b[0m \u001b[0mvalues\u001b[0m\u001b[1;33m.\u001b[0m\u001b[0mshape\u001b[0m\u001b[1;33m\u001b[0m\u001b[1;33m\u001b[0m\u001b[0m\n\u001b[0;32m    421\u001b[0m         \u001b[0mimplied\u001b[0m \u001b[1;33m=\u001b[0m \u001b[1;33m(\u001b[0m\u001b[0mlen\u001b[0m\u001b[1;33m(\u001b[0m\u001b[0mindex\u001b[0m\u001b[1;33m)\u001b[0m\u001b[1;33m,\u001b[0m \u001b[0mlen\u001b[0m\u001b[1;33m(\u001b[0m\u001b[0mcolumns\u001b[0m\u001b[1;33m)\u001b[0m\u001b[1;33m)\u001b[0m\u001b[1;33m\u001b[0m\u001b[1;33m\u001b[0m\u001b[0m\n\u001b[1;32m--> 422\u001b[1;33m         \u001b[1;32mraise\u001b[0m \u001b[0mValueError\u001b[0m\u001b[1;33m(\u001b[0m\u001b[1;34mf\"Shape of passed values is {passed}, indices imply {implied}\"\u001b[0m\u001b[1;33m)\u001b[0m\u001b[1;33m\u001b[0m\u001b[1;33m\u001b[0m\u001b[0m\n\u001b[0m\u001b[0;32m    423\u001b[0m \u001b[1;33m\u001b[0m\u001b[0m\n\u001b[0;32m    424\u001b[0m \u001b[1;33m\u001b[0m\u001b[0m\n",
      "\u001b[1;31mValueError\u001b[0m: Shape of passed values is (38705, 1), indices imply (38705, 31)"
     ]
    }
   ],
   "source": [
    "xpro = pd.DataFrame(xpre, columns = labels)\n",
    "xpro.head()"
   ]
  },
  {
   "cell_type": "code",
   "execution_count": null,
   "id": "829034f2",
   "metadata": {},
   "outputs": [],
   "source": []
  }
 ],
 "metadata": {
  "kernelspec": {
   "display_name": "Python 3 (ipykernel)",
   "language": "python",
   "name": "python3"
  },
  "language_info": {
   "codemirror_mode": {
    "name": "ipython",
    "version": 3
   },
   "file_extension": ".py",
   "mimetype": "text/x-python",
   "name": "python",
   "nbconvert_exporter": "python",
   "pygments_lexer": "ipython3",
   "version": "3.9.13"
  }
 },
 "nbformat": 4,
 "nbformat_minor": 5
}
