{
 "cells": [
  {
   "cell_type": "markdown",
   "id": "0a46507c",
   "metadata": {},
   "source": [
    "Usted trabaja en una empresa de importaciones y quiere saber cuánto dinero debe provisionar para mantener un correcto flujo de caja teniendo en cuenta la cantidad en toneladas de producto a importar, el tiempo de tránsito en días del producto y el precio FOB de dicho producto. Usted hizo un análisis e identificó el siguiente comportamiento. \n",
    "\n",
    "Provisión - Cantidad:\n",
    "- m1 = 666.667\n",
    "- m2 = 3.000.000\n",
    "- m3 = 2.000.000\n",
    "\n",
    "Provisión - Tiempo:\n",
    "- m4 = -1.000.000\n",
    "- m5 = -333.333\n",
    "- m6 = -666.667\n",
    "\n",
    "Provisión - Precio:\n",
    "- m7 = 27\n",
    "- m8 = 30\n",
    "- m9 = 90\n",
    "\n",
    "Diseñe un SIB Takagi – Sugeno teniendo en cuenta que la relación es de intersección entre precio y tiempo y es de unión entre el resultado y la cantidad. "
   ]
  },
  {
   "cell_type": "code",
   "execution_count": 19,
   "id": "7d761b65",
   "metadata": {},
   "outputs": [],
   "source": [
    "#Importar librerías\n",
    "import numpy as np\n",
    "import pandas as pd\n",
    "import matplotlib.pyplot as plt\n",
    "import skfuzzy\n",
    "from skfuzzy import control as ctrl\n",
    "import warnings\n",
    "\n",
    "warnings.filterwarnings('ignore')"
   ]
  },
  {
   "cell_type": "code",
   "execution_count": 20,
   "id": "47205064",
   "metadata": {},
   "outputs": [],
   "source": [
    "#Declarar universo de discurso\n",
    "cantidad = ctrl.Antecedent(np.arange(0, 101, 1), 'cantidad')\n",
    "tiempo = ctrl.Antecedent(np.arange(0, 201, 1), 'tiempo')\n",
    "precio = ctrl.Antecedent(np.arange(0, 1200001, 1), 'precio')\n",
    "\n",
    "provision = ctrl.Consequent(np.arange(0, 160000001, 1), 'provision')"
   ]
  },
  {
   "cell_type": "code",
   "execution_count": 21,
   "id": "6c773645",
   "metadata": {},
   "outputs": [],
   "source": [
    "#Crear conjuntos borrosos\n",
    "#Cantidad\n",
    "cantidad['poca'] = skfuzzy.trimf(cantidad.universe, [10, 40, 40])\n",
    "cantidad['normal'] = skfuzzy.trimf(cantidad.universe, [40, 60, 60])\n",
    "cantidad['mucha'] = skfuzzy.trimf(cantidad.universe, [60, 90, 90])"
   ]
  },
  {
   "cell_type": "code",
   "execution_count": 22,
   "id": "fd4c7e98",
   "metadata": {},
   "outputs": [],
   "source": [
    "#Tiempo\n",
    "tiempo['poca'] = skfuzzy.trimf(tiempo.universe, [60, 60, 90])\n",
    "tiempo['normal'] = skfuzzy.trimf(tiempo.universe, [90, 90, 120])\n",
    "tiempo['mucha'] = skfuzzy.trimf(tiempo.universe, [120, 120, 180])"
   ]
  },
  {
   "cell_type": "code",
   "execution_count": 23,
   "id": "96852993",
   "metadata": {},
   "outputs": [],
   "source": [
    "#Precio\n",
    "precio['poca'] = skfuzzy.trimf(precio.universe, [400000, 700000, 700000])\n",
    "precio['normal'] = skfuzzy.trimf(precio.universe, [700000, 900000, 900000])\n",
    "precio['mucha'] = skfuzzy.trimf(precio.universe, [900000, 1000000, 1000000])"
   ]
  },
  {
   "cell_type": "code",
   "execution_count": 24,
   "id": "04e9a8dc",
   "metadata": {},
   "outputs": [],
   "source": [
    "#Modelo Takagi Sugeno\n",
    "#Cantidad\n",
    "cantidad = np.arange(0, 101, 1)\n",
    "cantidad_poca = skfuzzy.trimf(cantidad, [10, 40, 40])\n",
    "cantidad_normal = skfuzzy.trimf(cantidad, [40, 60, 60])\n",
    "cantidad_mucha = skfuzzy.trimf(cantidad, [60, 90, 90])\n",
    "\n",
    "#Tiempo\n",
    "tiempo = np.arange(0, 201, 1)\n",
    "tiempo_poca = skfuzzy.trimf(tiempo, [60, 60, 90])\n",
    "tiempo_normal = skfuzzy.trimf(tiempo, [90, 90, 120])\n",
    "tiempo_mucha = skfuzzy.trimf(tiempo, [120, 120, 180])\n",
    "\n",
    "#Precio\n",
    "precio = np.arange(0, 1200001, 1)\n",
    "precio_poca = skfuzzy.trimf(precio, [400000, 700000, 700000])\n",
    "precio_normal = skfuzzy.trimf(precio, [700000, 900000, 900000])\n",
    "precio_mucha = skfuzzy.trimf(precio, [900000, 1000000, 1000000])"
   ]
  },
  {
   "cell_type": "code",
   "execution_count": 27,
   "id": "4a5eff8c",
   "metadata": {},
   "outputs": [],
   "source": [
    "#Funciones del consecuente\n",
    "def r1 (T, P):\n",
    "    return -1000000 * T + 27 * P\n",
    "def r2 (T, P):\n",
    "    return -333333 * T + 27 * P\n",
    "def r3 (T, P):\n",
    "    return -666667 * T + 27 * P\n",
    "\n",
    "def r4 (T, P):\n",
    "    return -1000000 * T + 30 * P\n",
    "def r5 (T, P):\n",
    "    return -333333 * T + 30 * P\n",
    "def r6 (T, P):\n",
    "    return -666667 * T + 30 * P\n",
    "\n",
    "def r7 (T, P):\n",
    "    return -1000000 * T + 90 * P\n",
    "def r8 (T, P):\n",
    "    return -333333 * T + 90 * P\n",
    "def r9 (T, P):\n",
    "    return -666667 * T + 90 * P"
   ]
  }
 ],
 "metadata": {
  "kernelspec": {
   "display_name": "Python 3 (ipykernel)",
   "language": "python",
   "name": "python3"
  },
  "language_info": {
   "codemirror_mode": {
    "name": "ipython",
    "version": 3
   },
   "file_extension": ".py",
   "mimetype": "text/x-python",
   "name": "python",
   "nbconvert_exporter": "python",
   "pygments_lexer": "ipython3",
   "version": "3.9.13"
  }
 },
 "nbformat": 4,
 "nbformat_minor": 5
}
