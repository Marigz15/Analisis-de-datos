{
 "cells": [
  {
   "attachments": {
    "image.png": {
     "image/png": "[encoded data removed]"
    }
   },
   "cell_type": "markdown",
   "id": "ae407902",
   "metadata": {},
   "source": [
    "Usted está buscando optimizar el retorno de 7 proyectos que están activos dentro de la organización donde trabaja. La única forma de optimizarlos es mediante el costo de operación del proyecto, dado que no tiene control sobre las demás palancas: \n",
    "\n",
    "![image.png](attachment:image.png)\n",
    "\n",
    "Tenga en cuenta que la alta gerencia le ha puesto un límite de costo total de $1.000.000.000, en caso tal que se supere este límite, el costo del proyecto se duplica. \n",
    "\n",
    "Diseñe un algoritmo evolutivo que le permita determinar el mejor valor para el costo. Tenga en cuenta que el retorno está dado por un ingreso general del proyecto (horas de desarrollo y pago por hora) y un costo general del proyecto (horas de desarrollo – costo por hora) \n",
    "\n",
    " \n",
    "\n",
    "Determine los mecanismos de generación, selección, cruce, mutación, tamaño de población y cantidad de generaciones que perciba acordes al problema. "
   ]
  },
  {
   "cell_type": "code",
   "execution_count": 26,
   "id": "26a1ff89",
   "metadata": {},
   "outputs": [],
   "source": [
    "#IMPORTAR LIBRERÍAS\n",
    "import random\n",
    "import numpy as np\n",
    "import matplotlib.pyplot as plt\n",
    "\n",
    "from deap import base, creator, tools, algorithms\n",
    "\n",
    "import warnings\n",
    "warnings.filterwarnings('ignore')"
   ]
  },
  {
   "cell_type": "code",
   "execution_count": 27,
   "id": "74497e34",
   "metadata": {},
   "outputs": [],
   "source": [
    "#Definir pesos, beneficios y capacidad\n",
    "tiempo = [190, 250, 720, 300, 150, 80, 750]\n",
    "pago = [1200000, 750000, 650000, 950000, 2500000, 3000000, 360000]\n",
    "costo = [950000, 350000, 175000, 690000, 580000, 350000, 690000]\n",
    "limite = 1000000000"
   ]
  },
  {
   "cell_type": "code",
   "execution_count": 28,
   "id": "0a70e518",
   "metadata": {},
   "outputs": [],
   "source": [
    "#Parámetros del algoritmo\n",
    "tamañoPoblacion = 100\n",
    "probabilidadMutacion = 0.1\n",
    "cantidadGeneraciones = 50"
   ]
  },
  {
   "cell_type": "code",
   "execution_count": 29,
   "id": "afb32a94",
   "metadata": {},
   "outputs": [],
   "source": [
    "#Función de evaluación de aptitud\n",
    "def evaluarAptitud(individuo):\n",
    "    costoTotal = sum([costo[i] * (2 if individuo[i] else 1) for i in range(len(individuo))])\n",
    "    ingresoTotal = sum([tiempo[i] * pago[i] for i in range (len(individuo))])\n",
    "    return ingresoTotal - costoTotal"
   ]
  },
  {
   "cell_type": "code",
   "execution_count": 30,
   "id": "f1fb77df",
   "metadata": {},
   "outputs": [],
   "source": [
    "#Generación de la población inicial\n",
    "poblacion = []\n",
    "for _ in range (tamañoPoblacion):\n",
    "    individuo = [random.choice([True, False]) for _ in range(len(tiempo))]\n",
    "    poblacion.append(individuo)"
   ]
  },
  {
   "cell_type": "code",
   "execution_count": 31,
   "id": "ad515741",
   "metadata": {},
   "outputs": [],
   "source": [
    "#Ciclo evolutivo\n",
    "for generacion in range (cantidadGeneraciones):\n",
    "    #Evaluación de aptitud de la población\n",
    "    aptitudes = [evaluarAptitud(individuo) for individuo in poblacion]\n",
    "    \n",
    "    #Selección de padres\n",
    "    padres = random.choices(poblacion, weights = aptitudes, k = tamañoPoblacion)\n",
    "    \n",
    "    #Creación de hijos mediante cruce\n",
    "    hijos = []\n",
    "    for padre1, padre2 in zip(padres[::2], padres[1::2]):\n",
    "        puntoCorte = random.randint(1, len(tiempo) - 1)\n",
    "        hijo1 = padre1[:puntoCorte] + padre2[puntoCorte:]\n",
    "        hijo2 = padre2[:puntoCorte] + padre1[puntoCorte:]\n",
    "        hijos.extend([hijo1, hijo2])\n",
    "    \n",
    "    #Mutación\n",
    "    for individuo in hijos:\n",
    "        for i in range(len(individuo)):\n",
    "            if random.random() < probabilidadMutacion:\n",
    "                individuo[i] = not individuo[i]\n",
    "    \n",
    "    #Reemplazo de la población anterior con los hijos\n",
    "    poblacion = hijos\n",
    "\n",
    "#Mejor individuo de la población final\n",
    "mejorIndividuo = max(poblacion, key = evaluarAptitud)\n",
    "mejorAptitud = evaluarAptitud(mejorIndividuo)"
   ]
  },
  {
   "cell_type": "code",
   "execution_count": 32,
   "id": "ad796206",
   "metadata": {},
   "outputs": [
    {
     "name": "stdout",
     "output_type": "stream",
     "text": [
      "Mejor individuo:  [False, False, True, False, False, False, False]\n",
      "Mejor aptitud:  2049540000\n"
     ]
    }
   ],
   "source": [
    "#Resultados\n",
    "print('Mejor individuo: ', mejorIndividuo)\n",
    "print('Mejor aptitud: ', mejorAptitud)"
   ]
  },
  {
   "cell_type": "markdown",
   "id": "483577bc",
   "metadata": {},
   "source": [
    "El mejor individuo [False, False, False, False, False, False, False] y la mejor aptitud 2049715000 indican que el algoritmo ha encontrado una solución donde ninguno de los proyectos tiene un costo duplicado. Sin embargo, es importante mencionar que la aptitud es la diferencia entre los ingresos y los costos totales, por lo que un valor más alto indica una mejor solución.\n",
    "\n",
    "Dado que el objetivo es maximizar el retorno, sería ideal obtener una aptitud aún mayor. Puede ser necesario ajustar los parámetros del algoritmo evolutivo, como el tamaño de la población, la probabilidad de mutación o la cantidad de generaciones, para obtener mejores resultados. También se podría explorar la implementación de diferentes operadores de cruce y mutación para mejorar la búsqueda en el espacio de soluciones."
   ]
  },
  {
   "cell_type": "code",
   "execution_count": 33,
   "id": "5087b4fc",
   "metadata": {},
   "outputs": [
    {
     "name": "stdout",
     "output_type": "stream",
     "text": [
      "Mejor proyecto(s):\n",
      "- Proyecto 3\n"
     ]
    }
   ],
   "source": [
    "# Obtener índices de los proyectos seleccionados en el mejor individuo\n",
    "mejores_proyectos = [i for i, proyecto in enumerate(mejorIndividuo) if proyecto]\n",
    "\n",
    "# Imprimir los mejores proyectos\n",
    "print(\"Mejor proyecto(s):\")\n",
    "for proyecto in mejores_proyectos:\n",
    "    print(f\"- Proyecto {proyecto + 1}\")"
   ]
  }
 ],
 "metadata": {
  "kernelspec": {
   "display_name": "Python 3 (ipykernel)",
   "language": "python",
   "name": "python3"
  },
  "language_info": {
   "codemirror_mode": {
    "name": "ipython",
    "version": 3
   },
   "file_extension": ".py",
   "mimetype": "text/x-python",
   "name": "python",
   "nbconvert_exporter": "python",
   "pygments_lexer": "ipython3",
   "version": "3.9.13"
  }
 },
 "nbformat": 4,
 "nbformat_minor": 5
}
