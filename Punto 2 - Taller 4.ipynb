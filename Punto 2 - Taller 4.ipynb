{
 "cells": [
  {
   "cell_type": "markdown",
   "id": "0ab7f446",
   "metadata": {},
   "source": [
    "Punto 2\n",
    " - Jacobo Aristizábal, Isabella García & María Giraldo"
   ]
  },
  {
   "cell_type": "code",
   "execution_count": 108,
   "id": "0ba8803b",
   "metadata": {},
   "outputs": [],
   "source": [
    "#Importar librerías\n",
    "import random\n",
    "import numpy as np\n",
    "import matplotlib.pyplot as plt\n",
    "\n",
    "from deap import base, creator, tools, algorithms\n",
    "\n",
    "import warnings\n",
    "warnings.filterwarnings('ignore')"
   ]
  },
  {
   "cell_type": "code",
   "execution_count": 109,
   "id": "7e064ff2",
   "metadata": {},
   "outputs": [],
   "source": [
    "#Definir las ciudades\n",
    "ciudades = [\"Medellín\", \"Bogotá\", \"Cartagena\", \"Cali\", \"Bucaramanga\"]\n",
    "\n",
    "#Distancias entre las ciudades en km \n",
    "distancias = {\n",
    "    \"Medellín\": {\"Bogotá\": 416, \"Cartagena\": 640, \"Cali\": 409, \"Bucaramanga\": 380},\n",
    "    \"Bogotá\": {\"Medellín\": 416, \"Cartagena\": 1041, \"Cali\": 508, \"Bucaramanga\": 426},\n",
    "    \"Cartagena\": {\"Medellín\": 640, \"Bogotá\": 1041, \"Cali\": 1046, \"Bucaramanga\": 622},\n",
    "    \"Cali\": {\"Medellín\": 409, \"Bogotá\": 508, \"Cartagena\": 1046, \"Bucaramanga\": 766},\n",
    "    \"Bucaramanga\": {\"Medellín\": 380, \"Bogotá\": 426, \"Cartagena\": 622, \"Cali\": 766}\n",
    "}\n"
   ]
  },
  {
   "cell_type": "code",
   "execution_count": 110,
   "id": "680a4793",
   "metadata": {},
   "outputs": [],
   "source": [
    "#Declarar el contenedor de operadores genéticos\n",
    "toolbox = base.Toolbox()"
   ]
  },
  {
   "cell_type": "code",
   "execution_count": 111,
   "id": "a660a569",
   "metadata": {},
   "outputs": [],
   "source": [
    "#Crear una clase para la función de adaptabilidad y para el individuo\n",
    "creator.create(\"FitnessMin\", base.Fitness, weights = (-1.0,))\n",
    "creator.create(\"Individual\", list, fitness = creator.FitnessMin)"
   ]
  },
  {
   "cell_type": "code",
   "execution_count": 112,
   "id": "714e207d",
   "metadata": {},
   "outputs": [],
   "source": [
    "#Distancia total recorrida\n",
    "def distanciaTotal(individuo):\n",
    "    distancia = 0\n",
    "    for i in range (numeroCiudades - 1):\n",
    "        ciudadActual = individuo[i]\n",
    "        ciudadSiguiente = individuo[i + 1]\n",
    "        distancia += distancias[ciudadActual][ciudadSiguiente]\n",
    "    distancia += distancias[individuo[-1]][individuo[0]]\n",
    "    return distancia,"
   ]
  },
  {
   "cell_type": "code",
   "execution_count": 113,
   "id": "4bca6016",
   "metadata": {},
   "outputs": [],
   "source": [
    "#Cromosomas booleanos\n",
    "toolbox.register(\"attribute\", random.sample, ciudades, len(ciudades))\n",
    "toolbox.register(\"individual\", tools.initIterate, creator.Individual, toolbox.attribute)\n",
    "toolbox.register(\"population\", tools.initRepeat, list, toolbox.individual)\n",
    "\n",
    "#Operadores genéticos\n",
    "toolbox.register('select', tools.selTournament, tournsize = 3)\n",
    "toolbox.register('mate', tools.cxOnePoint)\n",
    "toolbox.register('mutate', tools.mutFlipBit, indpb = 0.2)\n",
    "\n",
    "#Evaluación de adaptabilidad\n",
    "toolbox.register(\"evaluate\", distanciaTotal)"
   ]
  },
  {
   "cell_type": "code",
   "execution_count": 114,
   "id": "2f04e21b",
   "metadata": {},
   "outputs": [],
   "source": [
    "#Parámetros del algoritmo\n",
    "numeroCiudades = len(ciudades)\n",
    "tamañoPoblacion = 50\n",
    "numeroGeneraciones = 100\n",
    "probabilidadCruce = 0.5\n",
    "probabilidadMutacion = 0.01"
   ]
  },
  {
   "cell_type": "code",
   "execution_count": 115,
   "id": "99aabc24",
   "metadata": {},
   "outputs": [],
   "source": [
    "#Iniciar la población \n",
    "poblacion = toolbox.population(n = tamañoPoblacion)"
   ]
  },
  {
   "cell_type": "code",
   "execution_count": 116,
   "id": "11104131",
   "metadata": {},
   "outputs": [],
   "source": [
    "#Algoritmo genético y evaluación de la función de aptidud\n",
    "for generacion in range(numeroGeneraciones):\n",
    "    aptitudes = [toolbox.evaluate(individuo) for individuo in poblacion]\n",
    "    for individuo, aptitud in zip(poblacion, aptitudes):\n",
    "        individuo.fitness.values = aptitud\n",
    "    desc = toolbox.select(poblacion, len(poblacion))\n",
    "    desc = [toolbox.clone(individuo) for individuo in desc]\n",
    "    \n",
    "    for hijo1, hijo2 in zip(desc[::2], desc[1::2]):\n",
    "        if random.random() < probabilidadCruce:\n",
    "            toolbox.mate(hijo1, hijo2)\n",
    "\n",
    "    for individuo in desc:\n",
    "        if random.random() < probabilidadMutacion:\n",
    "            toolbox.mutate(individuo)"
   ]
  },
  {
   "cell_type": "code",
   "execution_count": 117,
   "id": "c811bb7f",
   "metadata": {},
   "outputs": [],
   "source": [
    "#Nueva generación\n",
    "poblacion[:] = desc"
   ]
  },
  {
   "cell_type": "code",
   "execution_count": 118,
   "id": "0a1e1d55",
   "metadata": {
    "scrolled": true
   },
   "outputs": [
    {
     "name": "stdout",
     "output_type": "stream",
     "text": [
      "Menor distancia: 2093\n",
      "Ruta óptima:\n",
      "['Cali', 'Medellín', 'Bucaramanga', 'Medellín', 'Bogotá']\n"
     ]
    }
   ],
   "source": [
    "#Mejor ruta a tomar\n",
    "mejorInd = tools.selBest(poblacion, k=1)[0]\n",
    "menorDist = distanciaTotal(mejorInd)[0]\n",
    "print(\"Menor distancia: {}\".format(menorDist))\n",
    "print(\"Ruta óptima:\")\n",
    "print(mejorInd)"
   ]
  },
  {
   "cell_type": "code",
   "execution_count": null,
   "id": "d52cfc10",
   "metadata": {},
   "outputs": [],
   "source": []
  }
 ],
 "metadata": {
  "kernelspec": {
   "display_name": "Python 3 (ipykernel)",
   "language": "python",
   "name": "python3"
  },
  "language_info": {
   "codemirror_mode": {
    "name": "ipython",
    "version": 3
   },
   "file_extension": ".py",
   "mimetype": "text/x-python",
   "name": "python",
   "nbconvert_exporter": "python",
   "pygments_lexer": "ipython3",
   "version": "3.9.13"
  }
 },
 "nbformat": 4,
 "nbformat_minor": 5
}
