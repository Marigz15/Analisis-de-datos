{
 "cells": [
  {
   "cell_type": "code",
   "execution_count": null,
   "id": "0382275d",
   "metadata": {},
   "outputs": [],
   "source": [
    "#IMPORTAR LIBRERÍAS\n",
    "#Advertencias\n",
    "import warnings\n",
    "warnings.filterwarnings('ignore')\n",
    "\n",
    "#Tratamiento de datos\n",
    "import numpy as np\n",
    "import pandas as pd\n",
    "\n",
    "#Gráficos\n",
    "import matplotlib.pyplot as plt\n",
    "import seaborn as sb\n",
    "from statsmodels.graphics.tsaplots import plot_acf\n",
    "from statsmodels.graphics.tsaplots import plot_pacf\n",
    "\n",
    "#Modelado y pronóstico\n",
    "from sklearn.tree import DecisionTreeRegressor\n",
    "from sklearn.preprocessing import StandardScaler\n",
    "from skforecast.ForecasterAutoreg import ForecasterAutoreg\n",
    "from skforecast.model_selection import grid_search_forecaster\n",
    "from skforecast.model_selection import backtesting_forecaster\n",
    "\n",
    "#Evaluación\n",
    "from sklearn.metrics import mean_absolute_error\n",
    "from sklearn.metrics import mean_squared_error"
   ]
  },
  {
   "cell_type": "code",
   "execution_count": null,
   "id": "5b801a44",
   "metadata": {},
   "outputs": [],
   "source": [
    "#Configuración de gráficos\n",
    "plt.style.use('fivethirtyeight')"
   ]
  },
  {
   "cell_type": "code",
   "execution_count": null,
   "id": "7d3fcff5",
   "metadata": {},
   "outputs": [],
   "source": [
    "#Importar datos\n",
    "#Datos:\n",
    "#Time: fecha y hora del registro del consumo\n",
    "#Date: fecha del registro del dato\n",
    "#Demand: valor de la demana de energía en Md\n",
    "#Temperatura: temperatura del sitio\n",
    "#Holiday: indica si el día es o no festivo (incluye vacaciones)\n",
    "\n",
    "url = ('https://raw.githubusercontent.com/JoaquinAmatRodrigo/skforecast/master/data/vic_elec.csv')\n",
    "datos = pd.read_csv(url)\n",
    "datos.head()"
   ]
  },
  {
   "cell_type": "code",
   "execution_count": null,
   "id": "2e8e286e",
   "metadata": {},
   "outputs": [],
   "source": [
    "datos.info()"
   ]
  },
  {
   "cell_type": "code",
   "execution_count": null,
   "id": "0581a9b6",
   "metadata": {},
   "outputs": [],
   "source": [
    "#Transformación de la variable Time a fecha-hora\n",
    "datos['Time'] = pd.to_datetime(datos['Time'], format = '%Y-%m-%dT%H:%M:%SZ')\n",
    "datos = datos.set_index('Time')\n",
    "datos = datos.asfreq('30min')\n",
    "datos = datos.sort_index()\n",
    "datos.head(20)"
   ]
  },
  {
   "cell_type": "code",
   "execution_count": null,
   "id": "9b1a8ab9",
   "metadata": {},
   "outputs": [],
   "source": [
    "datos.info()"
   ]
  },
  {
   "cell_type": "code",
   "execution_count": null,
   "id": "53d8b5d4",
   "metadata": {},
   "outputs": [],
   "source": [
    "#Validar que el índice temporal está completo\n",
    "(datos.index == pd.date_range(start = datos.index.min(),\n",
    "                            end = datos.index.max(),\n",
    "                            freq = datos.index.freq)).all()"
   ]
  },
  {
   "cell_type": "code",
   "execution_count": null,
   "id": "623ce137",
   "metadata": {},
   "outputs": [],
   "source": [
    "#datos = datos.drop('Date', axis = 1)\n",
    "datos = datos.resample(rule = 'H', closed = 'left', label = 'right').mean()\n",
    "datos.head()"
   ]
  },
  {
   "cell_type": "code",
   "execution_count": null,
   "id": "4f9e1317",
   "metadata": {},
   "outputs": [],
   "source": [
    "#Construcción de conjuntos de entrenamiento, prueba y validación\n",
    "datos = datos.loc['2012-01-01 00:00:00' : '2014-12-30 23:00:00']\n",
    "finEntrenamiento = '2013-12-31 23:59:00'\n",
    "finPrueba = '2014-11-30 23:59:00'\n",
    "\n",
    "datosEntrenamiento = datos.loc[:finEntrenamiento, :]\n",
    "datosPrueba = datos.loc[finEntrenamiento:finPrueba, :]\n",
    "datosValidacion = datos.loc[finPrueba:, :]\n",
    "\n",
    "print(f'Fechas de entrenamiento: {datosEntrenamiento.index.min()} --- {datosEntrenamiento.index.max()} (n = {len(datosEntrenamiento)})')\n",
    "print(f'Fechas de prueba: {datosPrueba.index.min()} --- {datosPrueba.index.max()} (n = {len(datosPrueba)})')\n",
    "print(f'Fechas de validación: {datosValidacion.index.min()} --- {datosValidacion.index.max()} (n = {len(datosValidacion)})')\n"
   ]
  },
  {
   "cell_type": "code",
   "execution_count": null,
   "id": "3f6ca3e4",
   "metadata": {},
   "outputs": [],
   "source": [
    "#Gráfico de serie temporal\n",
    "fig, ax = plt.subplots(figsize = (12, 4))\n",
    "datosEntrenamiento.Demand.plot(ax = ax, label = 'Entrenamiento')\n",
    "datosPrueba.Demand.plot(ax = ax, label = 'Prueba')\n",
    "datosValidacion.Demand.plot(ax = ax, label = 'Validación')\n",
    "ax.set_title('Demanda eléctrica')\n",
    "ax.legend()\n",
    "plt.show()"
   ]
  },
  {
   "cell_type": "code",
   "execution_count": null,
   "id": "42bbdb50",
   "metadata": {},
   "outputs": [],
   "source": [
    "#Identificarla estacionalidad por mes\n",
    "fig, ax = plt.subplots(figsize =(10, 5))\n",
    "datos['mes'] = datos.index.month\n",
    "datos.boxplot(column = 'Demand', by = 'mes', ax = ax)\n",
    "datos.groupby('mes')['Demand'].median().plot(style = 'o-', ax = ax)\n",
    "ax.set_ylabel('Demanda')\n",
    "ax.set_title('Distribución de demanda por mes')\n",
    "fig.suptitle('')\n",
    "plt.show()"
   ]
  },
  {
   "cell_type": "code",
   "execution_count": null,
   "id": "6098ff15",
   "metadata": {},
   "outputs": [],
   "source": [
    "#Identificarla estacionalidad por día semana\n",
    "fig, ax = plt.subplots(figsize =(10, 5))\n",
    "datos['dia_semana'] = datos.index.day_of_week + 1\n",
    "datos.boxplot(column = 'Demand', by = 'dia_semana', ax = ax)\n",
    "datos.groupby('dia_semana')['Demand'].median().plot(style = 'o-', ax = ax)\n",
    "ax.set_ylabel('Demanda')\n",
    "ax.set_title('Distribución de demanda por día de la semana')\n",
    "fig.suptitle('')\n",
    "plt.show()"
   ]
  },
  {
   "cell_type": "code",
   "execution_count": null,
   "id": "65f0eb5f",
   "metadata": {},
   "outputs": [],
   "source": [
    "#Identificarla estacionalidad por hora del día\n",
    "fig, ax = plt.subplots(figsize =(10, 5))\n",
    "datos['hora_dia'] = datos.index.hour + 1\n",
    "datos.boxplot(column = 'Demand', by = 'hora_dia', ax = ax)\n",
    "datos.groupby('hora_dia')['Demand'].median().plot(style = 'o-', ax = ax)\n",
    "ax.set_ylabel('Demanda')\n",
    "ax.set_title('Distribución de demanda por hora del día')\n",
    "fig.suptitle('')\n",
    "plt.show()"
   ]
  },
  {
   "cell_type": "code",
   "execution_count": null,
   "id": "9d8706b1",
   "metadata": {},
   "outputs": [],
   "source": [
    "#Efecto de los días festivos\n",
    "fig, ax = plt.subplots(figsize = (10, 5))\n",
    "sb.violinplot(x = 'Demand',\n",
    "             y = 'Holiday',\n",
    "             data = datos.assign(Holiday = datos.Holiday.astype(str)),\n",
    "             ax = ax)\n",
    "ax.set_title('Distribución de la demanda en festivos')\n",
    "ax.set_xlabel('Demanda')\n",
    "ax.set_ylabel('Festivo: 0 > No festivo, 2 > Festivo')"
   ]
  },
  {
   "cell_type": "code",
   "execution_count": null,
   "id": "a6fba1b8",
   "metadata": {},
   "outputs": [],
   "source": [
    "#Gráfico de Autocorrelación \n",
    "fig, ax = plt.subplots(figsize = (7, 3))\n",
    "plot_acf(datos.Demand, ax = ax, lags = 100)\n",
    "plt.show()"
   ]
  },
  {
   "cell_type": "code",
   "execution_count": null,
   "id": "eb8f3fe4",
   "metadata": {},
   "outputs": [],
   "source": [
    "#Gráfico de Autocorrelación Parcial \n",
    "fig, ax = plt.subplots(figsize = (7, 3))\n",
    "plot_pacf(datos.Demand, ax = ax, lags = 100)\n",
    "plt.show()"
   ]
  },
  {
   "cell_type": "code",
   "execution_count": null,
   "id": "8f4c7ae9",
   "metadata": {},
   "outputs": [],
   "source": [
    "#Modelado\n",
    "forecaster = ForecasterAutoreg(regressor = DecisionTreeRegressor(),\n",
    "                              lags = 24,\n",
    "                              transformer_y = StandardScaler())\n",
    "forecaster.fit(y = datos.loc[:finPrueba, 'Demand'])\n",
    "forecaster"
   ]
  },
  {
   "cell_type": "code",
   "execution_count": null,
   "id": "d7536489",
   "metadata": {},
   "outputs": [],
   "source": [
    "metrica, predicciones = backtesting_forecaster(forecaster = forecaster,\n",
    "                                              y = datos.Demand,\n",
    "                                              initial_train_size = len(datos.loc[:finPrueba]),\n",
    "                                              steps = 24,\n",
    "                                              metric = 'mean_absolute_error',\n",
    "                                              refit = False,\n",
    "                                              verbose = True)"
   ]
  },
  {
   "cell_type": "code",
   "execution_count": null,
   "id": "983b6b92",
   "metadata": {},
   "outputs": [],
   "source": [
    "fig, ax = plt.subplots(figsize = (12, 5))\n",
    "datos.loc[predicciones.index, 'Demand'].plot(ax = ax, label = 'Prueba')\n",
    "predicciones.plot(ax = ax, label = 'Pronóstico')\n",
    "ax.legend()\n",
    "plt.show()"
   ]
  },
  {
   "cell_type": "code",
   "execution_count": null,
   "id": "e7bffc58",
   "metadata": {},
   "outputs": [],
   "source": [
    "metrica"
   ]
  },
  {
   "cell_type": "code",
   "execution_count": null,
   "id": "3768e915",
   "metadata": {},
   "outputs": [],
   "source": [
    "#Búsqueda de hiperparámetros\n",
    "forecaster = ForecasterAutoreg (regressor = DecisionTreeRegressor(),\n",
    "                                 lags = 24,\n",
    "                                 transformer_y = StandardScaler())\n",
    "\n",
    "#Lags utilizados como predictores\n",
    "lags_grid = [5, 24, [1, 2, 3, 23, 24, 25, 47, 48, 49]]\n",
    "\n",
    "#Hiperparámetros del regresor\n",
    "param_grid = {'max_depth': [5, 7, 9, 11], \n",
    "             'criterion':['squared_error', 'absolute_error']}\n",
    "\n",
    "resultados_grid = grid_search_forecaster(forecaster = forecaster,\n",
    "                                        y = datos.loc[:finPrueba, 'Demand'],\n",
    "                                        param_grid = param_grid,\n",
    "                                        lags_grid = lags_grid,\n",
    "                                        steps = 24,\n",
    "                                        metric = 'mean_absolute_error',\n",
    "                                        refit = False,\n",
    "                                        initial_train_size = len(datos[:finEntrenamiento]),\n",
    "                                        fixed_train_size = False,\n",
    "                                        return_best = True,\n",
    "                                        verbose = False)"
   ]
  },
  {
   "cell_type": "code",
   "execution_count": null,
   "id": "9d482420",
   "metadata": {},
   "outputs": [],
   "source": [
    "resultados_grid"
   ]
  },
  {
   "cell_type": "code",
   "execution_count": null,
   "id": "6b85338b",
   "metadata": {},
   "outputs": [],
   "source": [
    "forecaster"
   ]
  },
  {
   "cell_type": "code",
   "execution_count": null,
   "id": "2d69a0f1",
   "metadata": {},
   "outputs": [],
   "source": [
    "metrica, predicciones = backtesting_forecaster(forecaster = forecaster,\n",
    "                                              y = datos.Demand,\n",
    "                                              initial_train_size = len(datos.loc[:finPrueba]),\n",
    "                                              steps = 24,\n",
    "                                              metric = 'mean_absolute_error',\n",
    "                                              refit = False,\n",
    "                                              verbose = False)"
   ]
  },
  {
   "cell_type": "code",
   "execution_count": null,
   "id": "913b4aba",
   "metadata": {},
   "outputs": [],
   "source": [
    "fig, ax = plt.subplots(figsize = (12, 5))\n",
    "datos.loc[predicciones.index, 'Demand'].plot(ax = ax, label = 'Prueba')\n",
    "predicciones.plot(ax = ax, label = 'Pronóstico')\n",
    "ax.legend()\n",
    "plt.show()"
   ]
  },
  {
   "cell_type": "code",
   "execution_count": null,
   "id": "094d59b2",
   "metadata": {},
   "outputs": [],
   "source": [
    "metrica"
   ]
  },
  {
   "cell_type": "code",
   "execution_count": null,
   "id": "27105bb4",
   "metadata": {},
   "outputs": [],
   "source": [
    "forecaster.get_feature_importance()"
   ]
  }
 ],
 "metadata": {
  "kernelspec": {
   "display_name": "Python 3 (ipykernel)",
   "language": "python",
   "name": "python3"
  },
  "language_info": {
   "codemirror_mode": {
    "name": "ipython",
    "version": 3
   },
   "file_extension": ".py",
   "mimetype": "text/x-python",
   "name": "python",
   "nbconvert_exporter": "python",
   "pygments_lexer": "ipython3",
   "version": "3.9.13"
  }
 },
 "nbformat": 4,
 "nbformat_minor": 5
}
