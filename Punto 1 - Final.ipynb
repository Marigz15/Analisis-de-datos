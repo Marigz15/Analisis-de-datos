{
 "cells": [
  {
   "cell_type": "markdown",
   "id": "9bb59093",
   "metadata": {},
   "source": [
    "María Giraldo Zuluaga"
   ]
  },
  {
   "cell_type": "code",
   "execution_count": 34,
   "id": "aa45c286",
   "metadata": {},
   "outputs": [],
   "source": [
    "#IMPORTAR LIBRERÍAS\n",
    "import random\n",
    "import numpy as np\n",
    "import pandas as pd\n",
    "import skfuzzy\n",
    "import matplotlib.pyplot as plt\n",
    "from skfuzzy import control as ctrl\n",
    "from deap import base, creator, tools, algorithms\n",
    "\n",
    "import warnings\n",
    "warnings.filterwarnings('ignore')"
   ]
  },
  {
   "cell_type": "code",
   "execution_count": 35,
   "id": "c74f1829",
   "metadata": {},
   "outputs": [],
   "source": [
    "#Declarar el universo de discurso\n",
    "ingresos = ctrl.Antecedent(np.arange(0, 12000001, 1), 'ingresos')\n",
    "gastos = ctrl.Antecedent(np.arange(0, 9000001, 1), 'gastos')\n",
    "propiedades = ctrl.Antecedent(np.arange(0, 6, 1), 'propiedades')\n",
    "edad = ctrl.Antecedent(np.arange(0, 81, 1), 'edad')"
   ]
  },
  {
   "cell_type": "code",
   "execution_count": 36,
   "id": "47a53eb5",
   "metadata": {},
   "outputs": [],
   "source": [
    "#Definir la variable de salida\n",
    "porcentajeRiesgo = ctrl.Consequent(np.arange(0, 101, 1), 'porcentajeRiesgo')"
   ]
  },
  {
   "cell_type": "code",
   "execution_count": 37,
   "id": "54719667",
   "metadata": {},
   "outputs": [],
   "source": [
    "#Crear conjuntos borrosos\n",
    "ingresos['baja'] = skfuzzy.trimf(ingresos.universe, [1500000, 1500000, 4000000])\n",
    "ingresos['media'] = skfuzzy.trimf(ingresos.universe, [4000000, 4000000, 6000000])\n",
    "ingresos['alta'] = skfuzzy.trimf(ingresos.universe, [6000000, 6000000, 12000000])"
   ]
  },
  {
   "cell_type": "code",
   "execution_count": 38,
   "id": "7789b158",
   "metadata": {},
   "outputs": [],
   "source": [
    "gastos['baja'] = skfuzzy.trimf(gastos.universe, [700000, 1500000, 1500000])\n",
    "gastos['media'] = skfuzzy.trimf(gastos.universe, [1500000, 5000000, 5000000])\n",
    "gastos['alta'] = skfuzzy.trimf(gastos.universe, [5000000, 9000000, 9000000])"
   ]
  },
  {
   "cell_type": "code",
   "execution_count": 39,
   "id": "e5ceadcf",
   "metadata": {},
   "outputs": [],
   "source": [
    "propiedades['baja'] = skfuzzy.trimf(propiedades.universe, [0, 0, 1])\n",
    "propiedades['media'] = skfuzzy.trimf(propiedades.universe, [1, 1, 3])\n",
    "propiedades['alta'] = skfuzzy.trimf(propiedades.universe, [3, 3, 5])"
   ]
  },
  {
   "cell_type": "code",
   "execution_count": 40,
   "id": "c680fe29",
   "metadata": {},
   "outputs": [],
   "source": [
    "edad['baja'] = skfuzzy.trimf(edad.universe, [25, 45, 45])\n",
    "edad['media'] = skfuzzy.trimf(edad.universe, [45, 65, 65])\n",
    "edad['alta'] = skfuzzy.trimf(edad.universe, [65, 80, 80])"
   ]
  },
  {
   "cell_type": "code",
   "execution_count": 41,
   "id": "f5e066f1",
   "metadata": {},
   "outputs": [],
   "source": [
    "porcentajeRiesgo['baja'] = skfuzzy.trimf(porcentajeRiesgo.universe, [0, 20, 40])\n",
    "porcentajeRiesgo['media'] = skfuzzy.trimf(porcentajeRiesgo.universe, [40, 50, 60])\n",
    "porcentajeRiesgo['alta'] = skfuzzy.trimf(porcentajeRiesgo.universe, [60, 80, 100])"
   ]
  },
  {
   "cell_type": "code",
   "execution_count": 43,
   "id": "1cf15ff8",
   "metadata": {},
   "outputs": [],
   "source": [
    "#Motor de reglas\n",
    "regla1 = ctrl.Rule(ingresos['alta'] | gastos['baja'] | propiedades['alta'] | edad['baja'], porcentajeRiesgo['baja'])\n",
    "regla2 = ctrl.Rule(ingresos['baja'] | gastos['alta'] | propiedades['baja'] | edad['alta'], porcentajeRiesgo['alta'])\n",
    "regla3 = ctrl.Rule(ingresos['media'] | gastos['media'] | propiedades['media'] | edad['media'], porcentajeRiesgo['media'])\n",
    "regla4 = ctrl.Rule(ingresos['alta'] | gastos['media'] | propiedades['alta'] | edad['baja'], porcentajeRiesgo['baja'])\n",
    "regla5 = ctrl.Rule(ingresos['alta'] | gastos['baja'] | propiedades['media'] | edad['baja'], porcentajeRiesgo['baja'])\n",
    "regla6 = ctrl.Rule(ingresos['alta'] | gastos['baja'] | propiedades['alta'] | edad['media'], porcentajeRiesgo['baja'])\n",
    "regla7 = ctrl.Rule(ingresos['media'] | gastos['alta'] | propiedades['baja'] | edad['alta'], porcentajeRiesgo['alta'])\n",
    "regla8 = ctrl.Rule(ingresos['baja'] | gastos['media'] | propiedades['baja'] | edad['alta'], porcentajeRiesgo['alta'])\n",
    "regla9 = ctrl.Rule(ingresos['baja'] | gastos['alta'] | propiedades['media'] | edad['alta'], porcentajeRiesgo['alta'])\n",
    "regla10 = ctrl.Rule(ingresos['baja'] | gastos['alta'] | propiedades['baja'] | edad['media'], porcentajeRiesgo['alta'])\n",
    "regla11 = ctrl.Rule(ingresos['alta'] | gastos['media'] | propiedades['media'] | edad['media'], porcentajeRiesgo['media'])\n",
    "regla12 = ctrl.Rule(ingresos['media'] | gastos['alta'] | propiedades['media'] | edad['media'], porcentajeRiesgo['media'])\n",
    "regla13 = ctrl.Rule(ingresos['media'] | gastos['media'] | propiedades['alta'] | edad['media'], porcentajeRiesgo['media'])\n",
    "regla14 = ctrl.Rule(ingresos['media'] | gastos['media'] | propiedades['media'] | edad['alta'], porcentajeRiesgo['media'])\n",
    "regla15 = ctrl.Rule(ingresos['baja'] | gastos['media'] | propiedades['media'] | edad['media'], porcentajeRiesgo['media'])\n",
    "regla16 = ctrl.Rule(ingresos['media'] | gastos['baja'] | propiedades['media'] | edad['media'], porcentajeRiesgo['media'])\n",
    "regla17 = ctrl.Rule(ingresos['media'] | gastos['media'] | propiedades['baja'] | edad['media'], porcentajeRiesgo['media'])\n",
    "regla18 = ctrl.Rule(ingresos['media'] | gastos['media'] | propiedades['media'] | edad['baja'], porcentajeRiesgo['media'])"
   ]
  },
  {
   "cell_type": "code",
   "execution_count": 44,
   "id": "6a04b5e2",
   "metadata": {},
   "outputs": [],
   "source": [
    "#Activar el motor de inferencia\n",
    "control = ctrl.ControlSystem([regla1, regla2, regla3, regla4, regla5, regla6, regla7, regla8, regla9, regla10, regla11, regla12, regla13, regla14, regla15, regla16, regla17, regla18])\n",
    "sistema = ctrl.ControlSystemSimulation(control)"
   ]
  },
  {
   "cell_type": "code",
   "execution_count": 45,
   "id": "e9bf9913",
   "metadata": {},
   "outputs": [],
   "source": [
    "#Asignación de valores\n",
    "sistema.input['ingresos'] = 30000000\n",
    "sistema.input['gastos'] = 10000000\n",
    "sistema.input['propiedades'] = 2\n",
    "sistema.input['edad'] = 38"
   ]
  },
  {
   "cell_type": "code",
   "execution_count": 46,
   "id": "e9a9e0e2",
   "metadata": {},
   "outputs": [],
   "source": [
    "#Evaluación del sistema \n",
    "sistema.compute()"
   ]
  },
  {
   "cell_type": "code",
   "execution_count": 49,
   "id": "d6e6f6d6",
   "metadata": {},
   "outputs": [],
   "source": [
    "#Porcentaje de riesgo\n",
    "porcentajeRiesgoResultado = sistema.output['porcentajeRiesgo']"
   ]
  },
  {
   "cell_type": "code",
   "execution_count": 50,
   "id": "196c6500",
   "metadata": {},
   "outputs": [
    {
     "name": "stdout",
     "output_type": "stream",
     "text": [
      "El porcentaje de riesgo es:  51.5457413249211\n"
     ]
    }
   ],
   "source": [
    "print('El porcentaje de riesgo es: ', porcentajeRiesgoResultado)"
   ]
  },
  {
   "cell_type": "code",
   "execution_count": 51,
   "id": "bbcfffda",
   "metadata": {},
   "outputs": [],
   "source": [
    "#Modelo Takagi Sugeno\n",
    "ingresos = np.arange(0, 12000001, 1)\n",
    "ingresos_baja = skfuzzy.trimf(ingresos, [1500000, 1500000, 4000000])\n",
    "ingresos_media = skfuzzy.trimf(ingresos, [4000000, 4000000, 6000000])\n",
    "ingresos_alta = skfuzzy.trimf(ingresos, [6000000, 6000000, 12000000])\n",
    "\n",
    "gastos = np.arange(0, 9000001, 1)\n",
    "gastos_baja = skfuzzy.trimf(gastos, [700000, 1500000, 1500000])\n",
    "gastos_media = skfuzzy.trimf(gastos, [1500000, 5000000, 5000000])\n",
    "gastos_alta = skfuzzy.trimf(gastos, [5000000, 9000000, 9000000])\n",
    "\n",
    "propiedades = np.arange(0, 6, 1)\n",
    "propiedades_baja = skfuzzy.trimf(propiedades, [0, 0, 1])\n",
    "propiedades_media = skfuzzy.trimf(propiedades, [1, 1, 3])\n",
    "propiedades_alta = skfuzzy.trimf(propiedades, [3, 3, 5])\n",
    "\n",
    "edad = np.arange(0, 81, 1)\n",
    "edad_baja = skfuzzy.trimf(edad, [25, 45, 45])\n",
    "edad_media = skfuzzy.trimf(edad, [45, 65, 65])\n",
    "edad_alta = skfuzzy.trimf(edad, [65, 80, 80])"
   ]
  },
  {
   "cell_type": "code",
   "execution_count": 52,
   "id": "99018cc2",
   "metadata": {},
   "outputs": [],
   "source": [
    "#Funciones del consequente\n",
    "def r1 (I, G, P, E):\n",
    "    return -0.00001*I + 0.00001875*G - 25*P + 1.15*E\n",
    "def r2 (I, G, P, E):\n",
    "    return -0.00001*I + 0.00001875*G - 25*P + 0.35*E\n",
    "def r3 (I, G, P, E):\n",
    "    return -0.00001*I + 0.00001875*G - 25*P + 1.87*E\n",
    "\n",
    "def r4 (I, G, P, E):\n",
    "    return -0.00001*I + 0.00001875*G - 25*P + 1.15*E\n",
    "def r5 (I, G, P, E):\n",
    "    return -0.00001*I + 0.00001875*G - 10*P + 0.35*E\n",
    "def r6 (I, G, P, E):\n",
    "    return -0.00001*I + 0.00001875*G - 15*P + 1.87*E\n",
    "\n",
    "def r7 (I, G, P, E):\n",
    "    return -0.00001*I + 0.00001875*G - 25*P + 1.15*E\n",
    "def r8 (I, G, P, E):\n",
    "    return -0.00001*I + 0.0000128*G - 10*P + 0.35*E\n",
    "def r9 (I, G, P, E):\n",
    "    return -0.00001*I + 0.00000625*G - 15*P + 1.87*E\n",
    "\n",
    "def r10 (I, G, P, E):\n",
    "    return -0.00001*I + 0.00001875*G - 25*P + 1.15*E\n",
    "def r11 (I, G, P, E):\n",
    "    return -0.0000125*I + 0.0000128*G - 10*P + 0.35*E\n",
    "def r12 (I, G, P, E):\n",
    "    return -0.0000025*I + 0.00000625*G - 15*P + 1.87*E\n",
    "\n",
    "def r13 (I, G, P, E):\n",
    "    return -0.0000125*I + 0.00001875*G - 25*P + 1.15*E\n",
    "def r14 (I, G, P, E):\n",
    "    return -0.0000125*I + 0.0000128*G - 10*P + 0.35*E\n",
    "def r15 (I, G, P, E):\n",
    "    return -0.0000125*I + 0.00000625*G - 15*P + 1.87*E"
   ]
  },
  {
   "cell_type": "code",
   "execution_count": 53,
   "id": "bcae11df",
   "metadata": {},
   "outputs": [],
   "source": [
    "#Motor de reglas \n",
    "def regla_1 (I, G, P, E):\n",
    "    mu1 = max(skfuzzy.interp_membership(ingresos, ingresos_baja, I), \n",
    "                                        min(skfuzzy.interp_membership(gastos, gastos_baja, G),\n",
    "                                            skfuzzy.interp_membership(propiedades, propiedades_baja, P),\n",
    "                                            skfuzzy.interp_membership(edad, edad_baja, E)))\n",
    "def regla_1 (I, G, P, E):\n",
    "    mu1 = max(skfuzzy.interp_membership(ingresos, ingresos_media, I), \n",
    "                                        min(skfuzzy.interp_membership(gastos, gastos_media, G),\n",
    "                                            skfuzzy.interp_membership(propiedades, propiedades_media, P),\n",
    "                                            skfuzzy.interp_membership(edad, edad_media, E)))"
   ]
  },
  {
   "cell_type": "code",
   "execution_count": null,
   "id": "da0e9f85",
   "metadata": {},
   "outputs": [],
   "source": []
  }
 ],
 "metadata": {
  "kernelspec": {
   "display_name": "Python 3 (ipykernel)",
   "language": "python",
   "name": "python3"
  },
  "language_info": {
   "codemirror_mode": {
    "name": "ipython",
    "version": 3
   },
   "file_extension": ".py",
   "mimetype": "text/x-python",
   "name": "python",
   "nbconvert_exporter": "python",
   "pygments_lexer": "ipython3",
   "version": "3.9.13"
  }
 },
 "nbformat": 4,
 "nbformat_minor": 5
}
