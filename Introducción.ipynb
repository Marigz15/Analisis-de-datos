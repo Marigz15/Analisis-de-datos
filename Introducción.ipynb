{
 "cells": [
  {
   "cell_type": "code",
   "execution_count": 1,
   "id": "51467064",
   "metadata": {},
   "outputs": [
    {
     "name": "stdout",
     "output_type": "stream",
     "text": [
      "Está haciendo frío\n"
     ]
    }
   ],
   "source": [
    "#FUNCIÓN PRINT: Imprime en pantalla elementos de información para el usuario\n",
    "print('Está haciendo frío')"
   ]
  },
  {
   "cell_type": "code",
   "execution_count": 2,
   "id": "0956615a",
   "metadata": {},
   "outputs": [
    {
     "name": "stdout",
     "output_type": "stream",
     "text": [
      "555\n"
     ]
    }
   ],
   "source": [
    "print(550+5)"
   ]
  },
  {
   "cell_type": "code",
   "execution_count": 3,
   "id": "fe7ce95f",
   "metadata": {},
   "outputs": [
    {
     "name": "stdout",
     "output_type": "stream",
     "text": [
      "Línea 1\n",
      "Línea 2\n",
      "Línea 3\n"
     ]
    }
   ],
   "source": [
    "#\\n: Determina el cambio de línea\n",
    "print('Línea 1\\nLínea 2\\nLínea 3')"
   ]
  },
  {
   "cell_type": "code",
   "execution_count": 4,
   "id": "ef71c059",
   "metadata": {},
   "outputs": [
    {
     "name": "stdout",
     "output_type": "stream",
     "text": [
      "A\tB\tC\n",
      "D\tE\tF\n",
      "G\tH\tI\n"
     ]
    }
   ],
   "source": [
    "#\\t: Da un espacio de tabulación\n",
    "print('A\\tB\\tC\\nD\\tE\\tF\\nG\\tH\\tI')"
   ]
  },
  {
   "cell_type": "code",
   "execution_count": 5,
   "id": "09759de8",
   "metadata": {},
   "outputs": [
    {
     "name": "stdout",
     "output_type": "stream",
     "text": [
      "¿Qué estamos estudiando? Análisis de decisiones\n"
     ]
    },
    {
     "data": {
      "text/plain": [
       "'Análisis de decisiones'"
      ]
     },
     "execution_count": 5,
     "metadata": {},
     "output_type": "execute_result"
    }
   ],
   "source": [
    "#FUNCIÓN INPUT: Solicita información de entrada al usuario\n",
    "input('¿Qué estamos estudiando? ')"
   ]
  },
  {
   "cell_type": "code",
   "execution_count": 6,
   "id": "dc6fc94a",
   "metadata": {},
   "outputs": [
    {
     "name": "stdout",
     "output_type": "stream",
     "text": [
      "¿Cuál es tu nombre? María\n",
      "¿Cuál es tu apellido? Giraldo\n",
      "María Giraldo\n"
     ]
    }
   ],
   "source": [
    "print(input('¿Cuál es tu nombre? ') +' '+ input('¿Cuál es tu apellido? '))"
   ]
  },
  {
   "cell_type": "code",
   "execution_count": 7,
   "id": "a4371c1c",
   "metadata": {},
   "outputs": [
    {
     "data": {
      "text/plain": [
       "str"
      ]
     },
     "execution_count": 7,
     "metadata": {},
     "output_type": "execute_result"
    }
   ],
   "source": [
    "#VARIABLES\n",
    "nombre = \"Tony\"\n",
    "type(nombre)"
   ]
  },
  {
   "cell_type": "code",
   "execution_count": 8,
   "id": "7d3a8854",
   "metadata": {},
   "outputs": [
    {
     "data": {
      "text/plain": [
       "int"
      ]
     },
     "execution_count": 8,
     "metadata": {},
     "output_type": "execute_result"
    }
   ],
   "source": [
    "edad = 51\n",
    "type(edad)"
   ]
  },
  {
   "cell_type": "code",
   "execution_count": 9,
   "id": "ee772fd9",
   "metadata": {},
   "outputs": [
    {
     "data": {
      "text/plain": [
       "float"
      ]
     },
     "execution_count": 9,
     "metadata": {},
     "output_type": "execute_result"
    }
   ],
   "source": [
    "estatura = 1.65\n",
    "type(estatura)"
   ]
  },
  {
   "cell_type": "code",
   "execution_count": 10,
   "id": "db0c3353",
   "metadata": {},
   "outputs": [
    {
     "data": {
      "text/plain": [
       "bool"
      ]
     },
     "execution_count": 10,
     "metadata": {},
     "output_type": "execute_result"
    }
   ],
   "source": [
    "casado = False\n",
    "type(casado)"
   ]
  },
  {
   "cell_type": "code",
   "execution_count": 13,
   "id": "93746d7a",
   "metadata": {},
   "outputs": [
    {
     "data": {
      "text/plain": [
       "list"
      ]
     },
     "execution_count": 13,
     "metadata": {},
     "output_type": "execute_result"
    }
   ],
   "source": [
    "listaNombre = ['Juan', 'María', 'Lucas']\n",
    "type(listaNombre)"
   ]
  },
  {
   "cell_type": "code",
   "execution_count": 14,
   "id": "895bc82e",
   "metadata": {},
   "outputs": [
    {
     "data": {
      "text/plain": [
       "['Juan', 'María', 'Lucas', 'Ana']"
      ]
     },
     "execution_count": 14,
     "metadata": {},
     "output_type": "execute_result"
    }
   ],
   "source": [
    "listaNombre.append('Ana')\n",
    "listaNombre"
   ]
  },
  {
   "cell_type": "code",
   "execution_count": 15,
   "id": "0ec3e420",
   "metadata": {},
   "outputs": [
    {
     "data": {
      "text/plain": [
       "tuple"
      ]
     },
     "execution_count": 15,
     "metadata": {},
     "output_type": "execute_result"
    }
   ],
   "source": [
    "tuplaNombre = ('Juan', 'María')\n",
    "type(tuplaNombre)"
   ]
  },
  {
   "cell_type": "code",
   "execution_count": 19,
   "id": "8e98128f",
   "metadata": {},
   "outputs": [
    {
     "name": "stdout",
     "output_type": "stream",
     "text": [
      "Hola Juan Valencia, tu número de afiliado es 785488\n"
     ]
    }
   ],
   "source": [
    "nombre = 'Juan Valencia'\n",
    "numeroAsociado = 785488\n",
    "print(f'Hola {nombre}, tu número de afiliado es {numeroAsociado}')"
   ]
  },
  {
   "cell_type": "code",
   "execution_count": 21,
   "id": "5ed5395b",
   "metadata": {},
   "outputs": [
    {
     "name": "stdout",
     "output_type": "stream",
     "text": [
      "Hola Juan Valencia, has ganado 350 puntos, tienes 1225 puntos acumulados\n"
     ]
    }
   ],
   "source": [
    "puntosNuevos = 350\n",
    "puntosActuales = 875\n",
    "print(f'Hola {nombre}, has ganado {puntosNuevos} puntos, tienes {puntosActuales + puntosNuevos} puntos acumulados')"
   ]
  },
  {
   "cell_type": "code",
   "execution_count": 1,
   "id": "f8d83e93",
   "metadata": {},
   "outputs": [
    {
     "data": {
      "text/plain": [
       "32"
      ]
     },
     "execution_count": 1,
     "metadata": {},
     "output_type": "execute_result"
    }
   ],
   "source": [
    "#OPERADORES MATEMÁTICOS\n",
    "x = 12\n",
    "y = 20\n",
    "x + y "
   ]
  },
  {
   "cell_type": "code",
   "execution_count": 2,
   "id": "3c8388fb",
   "metadata": {},
   "outputs": [
    {
     "data": {
      "text/plain": [
       "20"
      ]
     },
     "execution_count": 2,
     "metadata": {},
     "output_type": "execute_result"
    }
   ],
   "source": [
    "x = 35\n",
    "y = 15\n",
    "x - y"
   ]
  },
  {
   "cell_type": "code",
   "execution_count": 3,
   "id": "498cf65b",
   "metadata": {},
   "outputs": [
    {
     "data": {
      "text/plain": [
       "5850"
      ]
     },
     "execution_count": 3,
     "metadata": {},
     "output_type": "execute_result"
    }
   ],
   "source": [
    "x = 18\n",
    "y = 325\n",
    "x * y"
   ]
  },
  {
   "cell_type": "code",
   "execution_count": 4,
   "id": "5f0a6200",
   "metadata": {},
   "outputs": [
    {
     "data": {
      "text/plain": [
       "32.370370370370374"
      ]
     },
     "execution_count": 4,
     "metadata": {},
     "output_type": "execute_result"
    }
   ],
   "source": [
    "x = 874\n",
    "y = 27\n",
    "x/y"
   ]
  },
  {
   "cell_type": "code",
   "execution_count": 5,
   "id": "8886dc08",
   "metadata": {},
   "outputs": [
    {
     "data": {
      "text/plain": [
       "32"
      ]
     },
     "execution_count": 5,
     "metadata": {},
     "output_type": "execute_result"
    }
   ],
   "source": [
    "x//y"
   ]
  },
  {
   "cell_type": "code",
   "execution_count": 6,
   "id": "d178fb2e",
   "metadata": {},
   "outputs": [
    {
     "data": {
      "text/plain": [
       "10"
      ]
     },
     "execution_count": 6,
     "metadata": {},
     "output_type": "execute_result"
    }
   ],
   "source": [
    "x % y"
   ]
  },
  {
   "cell_type": "code",
   "execution_count": 8,
   "id": "7bacf123",
   "metadata": {},
   "outputs": [
    {
     "data": {
      "text/plain": [
       "256"
      ]
     },
     "execution_count": 8,
     "metadata": {},
     "output_type": "execute_result"
    }
   ],
   "source": [
    "x = 2\n",
    "y = 8\n",
    "x ** y"
   ]
  },
  {
   "cell_type": "code",
   "execution_count": 9,
   "id": "3bc07975",
   "metadata": {},
   "outputs": [
    {
     "data": {
      "text/plain": [
       "12.0"
      ]
     },
     "execution_count": 9,
     "metadata": {},
     "output_type": "execute_result"
    }
   ],
   "source": [
    "x = 144\n",
    "x ** 0.5"
   ]
  },
  {
   "cell_type": "code",
   "execution_count": 11,
   "id": "e03c979a",
   "metadata": {},
   "outputs": [
    {
     "data": {
      "text/plain": [
       "11"
      ]
     },
     "execution_count": 11,
     "metadata": {},
     "output_type": "execute_result"
    }
   ],
   "source": [
    "x = 10.6767\n",
    "round (x)"
   ]
  },
  {
   "cell_type": "code",
   "execution_count": 12,
   "id": "5e2cf396",
   "metadata": {},
   "outputs": [
    {
     "data": {
      "text/plain": [
       "10.68"
      ]
     },
     "execution_count": 12,
     "metadata": {},
     "output_type": "execute_result"
    }
   ],
   "source": [
    "round (x,2)"
   ]
  },
  {
   "cell_type": "code",
   "execution_count": 13,
   "id": "6304f16c",
   "metadata": {},
   "outputs": [
    {
     "data": {
      "text/plain": [
       "False"
      ]
     },
     "execution_count": 13,
     "metadata": {},
     "output_type": "execute_result"
    }
   ],
   "source": [
    "#OPERADORES DE COMPARACIÓN\n",
    "x = 500\n",
    "y = 250\n",
    "x == y"
   ]
  },
  {
   "cell_type": "code",
   "execution_count": 14,
   "id": "94d18644",
   "metadata": {},
   "outputs": [
    {
     "data": {
      "text/plain": [
       "True"
      ]
     },
     "execution_count": 14,
     "metadata": {},
     "output_type": "execute_result"
    }
   ],
   "source": [
    "x != y"
   ]
  },
  {
   "cell_type": "code",
   "execution_count": 15,
   "id": "e8e6145b",
   "metadata": {},
   "outputs": [
    {
     "data": {
      "text/plain": [
       "True"
      ]
     },
     "execution_count": 15,
     "metadata": {},
     "output_type": "execute_result"
    }
   ],
   "source": [
    "x > y"
   ]
  },
  {
   "cell_type": "code",
   "execution_count": 16,
   "id": "c87d05eb",
   "metadata": {},
   "outputs": [
    {
     "data": {
      "text/plain": [
       "False"
      ]
     },
     "execution_count": 16,
     "metadata": {},
     "output_type": "execute_result"
    }
   ],
   "source": [
    "x <= y"
   ]
  },
  {
   "cell_type": "code",
   "execution_count": 17,
   "id": "f5b0b762",
   "metadata": {},
   "outputs": [
    {
     "data": {
      "text/plain": [
       "False"
      ]
     },
     "execution_count": 17,
     "metadata": {},
     "output_type": "execute_result"
    }
   ],
   "source": [
    "#OPERACIONES LÓGICAS\n",
    "x = 300\n",
    "y = 2000\n",
    "z = 10\n",
    "\n",
    "x > y and y > z"
   ]
  },
  {
   "cell_type": "code",
   "execution_count": 19,
   "id": "e15c706d",
   "metadata": {},
   "outputs": [
    {
     "data": {
      "text/plain": [
       "True"
      ]
     },
     "execution_count": 19,
     "metadata": {},
     "output_type": "execute_result"
    }
   ],
   "source": [
    "x > y or y > z"
   ]
  },
  {
   "cell_type": "code",
   "execution_count": 25,
   "id": "c927a328",
   "metadata": {},
   "outputs": [
    {
     "data": {
      "text/plain": [
       "False"
      ]
     },
     "execution_count": 25,
     "metadata": {},
     "output_type": "execute_result"
    }
   ],
   "source": [
    "not x < y"
   ]
  },
  {
   "cell_type": "code",
   "execution_count": 26,
   "id": "2c4cabaa",
   "metadata": {},
   "outputs": [
    {
     "data": {
      "text/plain": [
       "True"
      ]
     },
     "execution_count": 26,
     "metadata": {},
     "output_type": "execute_result"
    }
   ],
   "source": [
    "not x > y "
   ]
  },
  {
   "cell_type": "code",
   "execution_count": 31,
   "id": "b5561ef0",
   "metadata": {},
   "outputs": [
    {
     "name": "stdout",
     "output_type": "stream",
     "text": [
      "Ingrese un número: 15\n",
      "Ingrese otro número: 25\n",
      "25.0 es mayor que 15.0\n"
     ]
    }
   ],
   "source": [
    "#CONDICIONALES\n",
    "num1 = float(input('Ingrese un número: '))\n",
    "num2 = float(input('Ingrese otro número: '))\n",
    "\n",
    "if num1 > num2:\n",
    "    print(f'{num1} es mayor que {num2}')\n",
    "elif num2 > num1:\n",
    "    print(f'{num2} es mayor que {num1}')\n",
    "else:\n",
    "    print(f'{num1} y {num2} son iguales')"
   ]
  },
  {
   "cell_type": "code",
   "execution_count": 32,
   "id": "8b5fe38e",
   "metadata": {},
   "outputs": [
    {
     "name": "stdout",
     "output_type": "stream",
     "text": [
      "Te hace falta saber Python\n"
     ]
    }
   ],
   "source": [
    "hablaIngles = True\n",
    "sabePython = False\n",
    "\n",
    "if hablaIngles == True and sabePython == True:\n",
    "    print('Cumples con las condiciones para el cargo')\n",
    "elif hablaIngles == False and sabePython == True:\n",
    "    print('Te hace falta saber inglés')\n",
    "elif hablaIngles == True and sabePython == False:\n",
    "    print('Te hace falta saber Python')\n",
    "else:\n",
    "    print('No cumples con las condiciones para el cargo')"
   ]
  },
  {
   "cell_type": "code",
   "execution_count": 33,
   "id": "a59d4a4f",
   "metadata": {},
   "outputs": [
    {
     "name": "stdout",
     "output_type": "stream",
     "text": [
      "Hola Juan\n",
      "Hola Luis\n",
      "Hola Ana\n",
      "Hola Luisa\n",
      "Hola María\n",
      "Hola Diego\n"
     ]
    }
   ],
   "source": [
    "#CICLOS FINITOS\n",
    "listaAlumnos = ['Juan', 'Luis', 'Ana', 'Luisa', 'María', 'Diego']\n",
    "\n",
    "for alumno in listaAlumnos:\n",
    "    print('Hola ' + alumno)"
   ]
  },
  {
   "cell_type": "code",
   "execution_count": 34,
   "id": "def1d681",
   "metadata": {},
   "outputs": [
    {
     "name": "stdout",
     "output_type": "stream",
     "text": [
      "84\n"
     ]
    }
   ],
   "source": [
    "listaNumeros = [1, 3, 8, 7, 12, 45, 8]\n",
    "sumaNumeros = 0\n",
    "\n",
    "for i in listaNumeros:\n",
    "    sumaNumeros = sumaNumeros + i\n",
    "    \n",
    "print(sumaNumeros)"
   ]
  },
  {
   "cell_type": "code",
   "execution_count": 35,
   "id": "9d239a4e",
   "metadata": {},
   "outputs": [
    {
     "name": "stdout",
     "output_type": "stream",
     "text": [
      "1\n",
      "4\n",
      "12\n",
      "19\n",
      "31\n",
      "76\n",
      "84\n"
     ]
    }
   ],
   "source": [
    "listaNumeros = [1, 3, 8, 7, 12, 45, 8]\n",
    "sumaNumeros = 0\n",
    "\n",
    "for i in listaNumeros:\n",
    "    sumaNumeros = sumaNumeros + i\n",
    "    print(sumaNumeros)"
   ]
  },
  {
   "cell_type": "code",
   "execution_count": 43,
   "id": "8e5d650a",
   "metadata": {},
   "outputs": [
    {
     "name": "stdout",
     "output_type": "stream",
     "text": [
      "26\n",
      "29\n"
     ]
    }
   ],
   "source": [
    "listaNumeros = [1, 3, 7, 8, 12, 5, 4, 9, 3, 1, 2]\n",
    "sumaPares = 0\n",
    "sumaImpares = 0\n",
    "\n",
    "for i in listaNumeros:\n",
    "    if i % 2 == 0:\n",
    "        sumaPares = sumaPares + i\n",
    "    else:\n",
    "        sumaImpares = sumaImpares + i\n",
    "        \n",
    "print(sumaPares)\n",
    "print(sumaImpares)"
   ]
  },
  {
   "cell_type": "code",
   "execution_count": 44,
   "id": "35d009a5",
   "metadata": {},
   "outputs": [
    {
     "name": "stdout",
     "output_type": "stream",
     "text": [
      "1\n",
      "2\n",
      "3\n"
     ]
    }
   ],
   "source": [
    "#CICLOS INFINITOS\n",
    "i = 0\n",
    "while (i < 3):\n",
    "    i = i + 1\n",
    "    print (i)"
   ]
  },
  {
   "cell_type": "code",
   "execution_count": 45,
   "id": "a1a6a65a",
   "metadata": {},
   "outputs": [
    {
     "name": "stdout",
     "output_type": "stream",
     "text": [
      "50\n",
      "45\n",
      "40\n",
      "35\n",
      "30\n",
      "25\n",
      "20\n",
      "15\n",
      "10\n",
      "5\n",
      "0\n"
     ]
    }
   ],
   "source": [
    "numero = 50\n",
    "while (numero >= 0):\n",
    "    if numero % 5 == 0:\n",
    "        print(numero)\n",
    "    else:\n",
    "        pass\n",
    "    numero = numero - 1"
   ]
  },
  {
   "cell_type": "code",
   "execution_count": 46,
   "id": "95cb2d03",
   "metadata": {},
   "outputs": [],
   "source": [
    "#FUNCIONES\n",
    "def potencia (base, exponente):\n",
    "    pot = base ** exponente\n",
    "    return pot"
   ]
  },
  {
   "cell_type": "code",
   "execution_count": 47,
   "id": "ce08dea6",
   "metadata": {},
   "outputs": [
    {
     "data": {
      "text/plain": [
       "256"
      ]
     },
     "execution_count": 47,
     "metadata": {},
     "output_type": "execute_result"
    }
   ],
   "source": [
    "potencia (2, 8)"
   ]
  },
  {
   "cell_type": "code",
   "execution_count": 48,
   "id": "3b56b298",
   "metadata": {},
   "outputs": [],
   "source": [
    "var = potencia (2, 8)"
   ]
  },
  {
   "cell_type": "code",
   "execution_count": 49,
   "id": "604e2577",
   "metadata": {},
   "outputs": [
    {
     "data": {
      "text/plain": [
       "256"
      ]
     },
     "execution_count": 49,
     "metadata": {},
     "output_type": "execute_result"
    }
   ],
   "source": [
    "var"
   ]
  },
  {
   "cell_type": "code",
   "execution_count": 51,
   "id": "315af854",
   "metadata": {},
   "outputs": [],
   "source": [
    "#FUNCIONES CON LIBRERÍAS\n",
    "import random\n",
    "\n",
    "def lanzarDados():\n",
    "    return random.randint(1, 6), random.randint(1, 6)\n",
    "\n",
    "def evaluarJugada (dado1, dado2):\n",
    "    sumaDados = dado1 + dado2\n",
    "    \n",
    "    if sumaDados <= 6:\n",
    "        return f'La suma de los dades es {sumaDados}. Lamentable.'\n",
    "    elif sumaDados > 6 and sumaDados < 10:\n",
    "        return f'La suma de los dados es {sumaDados}. Tienes oportunidades!'\n",
    "    elif sumaDados >= 10:\n",
    "        return f'La suma de los dados es {sumaDados}. Parece una jugada ganadora!'"
   ]
  },
  {
   "cell_type": "code",
   "execution_count": 52,
   "id": "d32af68f",
   "metadata": {},
   "outputs": [
    {
     "data": {
      "text/plain": [
       "'La suma de los dados es 8. Tienes oportunidades!'"
      ]
     },
     "execution_count": 52,
     "metadata": {},
     "output_type": "execute_result"
    }
   ],
   "source": [
    "dado1, dado2 = lanzarDados()\n",
    "evaluarJugada(dado1, dado2)"
   ]
  },
  {
   "cell_type": "code",
   "execution_count": null,
   "id": "427a6f0a",
   "metadata": {},
   "outputs": [],
   "source": []
  }
 ],
 "metadata": {
  "kernelspec": {
   "display_name": "Python 3 (ipykernel)",
   "language": "python",
   "name": "python3"
  },
  "language_info": {
   "codemirror_mode": {
    "name": "ipython",
    "version": 3
   },
   "file_extension": ".py",
   "mimetype": "text/x-python",
   "name": "python",
   "nbconvert_exporter": "python",
   "pygments_lexer": "ipython3",
   "version": "3.9.13"
  }
 },
 "nbformat": 4,
 "nbformat_minor": 5
}
