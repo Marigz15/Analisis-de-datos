{
 "cells": [
  {
   "cell_type": "markdown",
   "id": "3a5138b3",
   "metadata": {},
   "source": [
    "Usted trabaja en una empresa de desarrollo organizacional y está interesado en medir la probabilidad de ajuste de un candidato a un puesto en particular. Para esto el equipo de gestión del talento genera una escala de medición de 1 a 100 de 5 variables de comportamiento: \n",
    "\n",
    "Adaptabilidad. \n",
    "\n",
    "Actitud de servicio. \n",
    "\n",
    "Capacidad técnica. \n",
    "\n",
    "Manejo de equipos. \n",
    "\n",
    "Responsabilidad. \n",
    "\n",
    " \n",
    "\n",
    "Diseñe un SIB Mamdani, teniendo en cuenta que la relación entre las variables es de intersección. "
   ]
  },
  {
   "cell_type": "code",
   "execution_count": 45,
   "id": "09e0ed79",
   "metadata": {},
   "outputs": [],
   "source": [
    "#Importar librerías\n",
    "import numpy as np\n",
    "import skfuzzy\n",
    "import matplotlib.pyplot as plt\n",
    "from skfuzzy import control as ctrl\n",
    "import warnings\n",
    "warnings.filterwarnings('ignore')"
   ]
  },
  {
   "cell_type": "code",
   "execution_count": 46,
   "id": "8f975f96",
   "metadata": {},
   "outputs": [],
   "source": [
    "#Declarar el universo de discurso\n",
    "adaptabilidad = ctrl.Antecedent(np.arange(0, 101, 1), 'adaptabilidad')\n",
    "actitudServicio = ctrl.Antecedent(np.arange(0, 101, 1), 'actitudServicio')\n",
    "capacidadTecnica = ctrl.Antecedent(np.arange(0, 101, 1), 'capacidadTecnica')\n",
    "manejoEquipos = ctrl.Antecedent(np.arange(0, 101, 1), 'manejoEquipos')\n",
    "responsabilidad = ctrl.Antecedent(np.arange(0, 101, 1), 'responsabilidad')"
   ]
  },
  {
   "cell_type": "code",
   "execution_count": 47,
   "id": "6de0fdc6",
   "metadata": {},
   "outputs": [],
   "source": [
    "#Definición de la variable de salida\n",
    "probabilidadAjuste = ctrl.Consequent(np.arange(0, 101, 1), 'probabilidadAjuste')"
   ]
  },
  {
   "cell_type": "code",
   "execution_count": 48,
   "id": "8759ca95",
   "metadata": {},
   "outputs": [],
   "source": [
    "#Crear conjuntos borrosos\n",
    "#Adaptabilidad\n",
    "adaptabilidad['baja'] = skfuzzy.trimf(adaptabilidad.universe, [0, 0, 40])\n",
    "adaptabilidad['media'] = skfuzzy.trimf(adaptabilidad.universe, [30, 50, 70])\n",
    "adaptabilidad['alta'] = skfuzzy.trimf(adaptabilidad.universe, [60, 100, 100])"
   ]
  },
  {
   "cell_type": "code",
   "execution_count": 49,
   "id": "291ccebc",
   "metadata": {},
   "outputs": [],
   "source": [
    "#Actitud de servicio\n",
    "actitudServicio['baja'] = skfuzzy.trimf(adaptabilidad.universe, [0, 0, 40])\n",
    "actitudServicio['media'] = skfuzzy.trimf(adaptabilidad.universe, [30, 50, 70])\n",
    "actitudServicio['alta'] = skfuzzy.trimf(adaptabilidad.universe, [60, 100, 100])"
   ]
  },
  {
   "cell_type": "code",
   "execution_count": 50,
   "id": "d307b010",
   "metadata": {},
   "outputs": [],
   "source": [
    "#Capacidad técnica\n",
    "capacidadTecnica['baja'] = skfuzzy.trimf(adaptabilidad.universe, [0, 0, 40])\n",
    "capacidadTecnica['media'] = skfuzzy.trimf(adaptabilidad.universe, [30, 50, 70])\n",
    "capacidadTecnica['alta'] = skfuzzy.trimf(adaptabilidad.universe, [60, 100, 100])"
   ]
  },
  {
   "cell_type": "code",
   "execution_count": 51,
   "id": "a7b453f9",
   "metadata": {},
   "outputs": [],
   "source": [
    "#Manejo de equipos\n",
    "manejoEquipos['baja'] = skfuzzy.trimf(adaptabilidad.universe, [0, 0, 40])\n",
    "manejoEquipos['media'] = skfuzzy.trimf(adaptabilidad.universe, [30, 50, 70])\n",
    "manejoEquipos['alta'] = skfuzzy.trimf(adaptabilidad.universe, [60, 100, 100])"
   ]
  },
  {
   "cell_type": "code",
   "execution_count": 52,
   "id": "3f418ebd",
   "metadata": {},
   "outputs": [],
   "source": [
    "#Responsabilidad\n",
    "responsabilidad['baja'] = skfuzzy.trimf(adaptabilidad.universe, [0, 0, 40])\n",
    "responsabilidad['media'] = skfuzzy.trimf(adaptabilidad.universe, [30, 50, 70])\n",
    "responsabilidad['alta'] = skfuzzy.trimf(adaptabilidad.universe, [60, 100, 100])"
   ]
  },
  {
   "cell_type": "code",
   "execution_count": 53,
   "id": "935a4532",
   "metadata": {},
   "outputs": [],
   "source": [
    "#Probabilidad de ajuste\n",
    "probabilidadAjuste['baja'] = skfuzzy.trimf(adaptabilidad.universe, [0, 0, 40])\n",
    "probabilidadAjuste['media'] = skfuzzy.trimf(adaptabilidad.universe, [30, 50, 70])\n",
    "probabilidadAjuste['alta'] = skfuzzy.trimf(adaptabilidad.universe, [60, 100, 100])"
   ]
  },
  {
   "cell_type": "code",
   "execution_count": 58,
   "id": "e58d2fb9",
   "metadata": {},
   "outputs": [],
   "source": [
    "#Motor de reglas \n",
    "regla1 = ctrl.Rule(adaptabilidad['alta'] & actitudServicio['alta'] & capacidadTecnica['alta'] & manejoEquipos['alta'] & responsabilidad['alta'], probabilidadAjuste['alta'])\n",
    "regla2 = ctrl.Rule(adaptabilidad['media'] & actitudServicio['media'] & capacidadTecnica['media'] & manejoEquipos['media'] & responsabilidad['media'], probabilidadAjuste['media'])\n",
    "regla3 = ctrl.Rule(adaptabilidad['baja'] & actitudServicio['baja'] & capacidadTecnica['baja'] & manejoEquipos['baja'] & responsabilidad['baja'], probabilidadAjuste['baja'])\n",
    "regla4 = ctrl.Rule(adaptabilidad['alta'] & actitudServicio['alta'] & capacidadTecnica['alta'] & manejoEquipos['alta'] & responsabilidad['media'], probabilidadAjuste['alta'])\n",
    "regla5 = ctrl.Rule(adaptabilidad['media'] & actitudServicio['alta'] & capacidadTecnica['media'] & manejoEquipos['media'] & responsabilidad['media'], probabilidadAjuste['media'])\n",
    "regla6 = ctrl.Rule(adaptabilidad['media'] & actitudServicio['media'] & capacidadTecnica['alta'] & manejoEquipos['alta'] & responsabilidad['alta'], probabilidadAjuste['alta'])"
   ]
  },
  {
   "cell_type": "code",
   "execution_count": 59,
   "id": "09647f0c",
   "metadata": {},
   "outputs": [],
   "source": [
    "#Activar el motor de inferencia\n",
    "control = ctrl.ControlSystem([regla1, regla2, regla3, regla4, regla5, regla6])\n",
    "sistema = ctrl.ControlSystemSimulation(control)"
   ]
  },
  {
   "cell_type": "code",
   "execution_count": 73,
   "id": "5b6ab060",
   "metadata": {},
   "outputs": [],
   "source": [
    "#Asignación de valores\n",
    "sistema.input['adaptabilidad'] = 80\n",
    "sistema.input['actitudServicio'] = 80\n",
    "sistema.input['capacidadTecnica'] = 80\n",
    "sistema.input['manejoEquipos'] = 80\n",
    "sistema.input['responsabilidad'] = 80"
   ]
  },
  {
   "cell_type": "code",
   "execution_count": 75,
   "id": "8beee644",
   "metadata": {},
   "outputs": [],
   "source": [
    "#Evaluación del sistema\n",
    "sistema.compute()"
   ]
  },
  {
   "cell_type": "code",
   "execution_count": 79,
   "id": "1fad9378",
   "metadata": {},
   "outputs": [],
   "source": [
    "#Probabilidad de ajuste\n",
    "probabilidadAjusteResultado = sistema.output['probabilidadAjuste']"
   ]
  },
  {
   "cell_type": "code",
   "execution_count": 84,
   "id": "e1ca1b06",
   "metadata": {},
   "outputs": [
    {
     "name": "stdout",
     "output_type": "stream",
     "text": [
      "La probabilidad de ajuste es: 84.44444444444444\n"
     ]
    }
   ],
   "source": [
    "print('La probabilidad de ajuste es:', probabilidadAjusteResultado)"
   ]
  }
 ],
 "metadata": {
  "kernelspec": {
   "display_name": "Python 3 (ipykernel)",
   "language": "python",
   "name": "python3"
  },
  "language_info": {
   "codemirror_mode": {
    "name": "ipython",
    "version": 3
   },
   "file_extension": ".py",
   "mimetype": "text/x-python",
   "name": "python",
   "nbconvert_exporter": "python",
   "pygments_lexer": "ipython3",
   "version": "3.9.13"
  }
 },
 "nbformat": 4,
 "nbformat_minor": 5
}
